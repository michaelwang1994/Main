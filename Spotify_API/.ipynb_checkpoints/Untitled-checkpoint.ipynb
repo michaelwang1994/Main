{
 "cells": [
  {
   "cell_type": "code",
   "execution_count": 90,
   "metadata": {
    "collapsed": false
   },
   "outputs": [],
   "source": [
    "import spotipy\n",
    "import spotipy.util as util\n",
    "from bs4 import BeautifulSoup"
   ]
  },
  {
   "cell_type": "code",
   "execution_count": null,
   "metadata": {
    "collapsed": false
   },
   "outputs": [],
   "source": []
  },
  {
   "cell_type": "code",
   "execution_count": 95,
   "metadata": {
    "collapsed": false
   },
   "outputs": [
    {
     "name": "stdout",
     "output_type": "stream",
     "text": [
      "\n",
      "            You need to set your Spotify API credentials. You can do this by\n",
      "            setting environment variables like so:\n",
      "\n",
      "            export SPOTIPY_CLIENT_ID='your-spotify-client-id'\n",
      "            export SPOTIPY_CLIENT_SECRET='your-spotify-client-secret'\n",
      "            export SPOTIPY_REDIRECT_URI='your-app-redirect-url'\n",
      "\n",
      "            Get your credentials at     \n",
      "                https://developer.spotify.com/my-applications\n",
      "        \n"
     ]
    },
    {
     "ename": "SpotifyException",
     "evalue": "http status: 550, code:-1 - no credentials set",
     "output_type": "error",
     "traceback": [
      "\u001b[0;31m---------------------------------------------------------------------------\u001b[0m",
      "\u001b[0;31mSpotifyException\u001b[0m                          Traceback (most recent call last)",
      "\u001b[0;32m<ipython-input-95-68ff8c74babb>\u001b[0m in \u001b[0;36m<module>\u001b[0;34m()\u001b[0m\n\u001b[1;32m      2\u001b[0m \u001b[0mscope\u001b[0m \u001b[0;34m=\u001b[0m \u001b[0;34m'user-library-read'\u001b[0m\u001b[0;34m\u001b[0m\u001b[0m\n\u001b[1;32m      3\u001b[0m \u001b[0musername\u001b[0m \u001b[0;34m=\u001b[0m \u001b[0;34m'hmwang'\u001b[0m\u001b[0;34m\u001b[0m\u001b[0m\n\u001b[0;32m----> 4\u001b[0;31m \u001b[0mtoken\u001b[0m \u001b[0;34m=\u001b[0m \u001b[0mutil\u001b[0m\u001b[0;34m.\u001b[0m\u001b[0mprompt_for_user_token\u001b[0m\u001b[0;34m(\u001b[0m\u001b[0musername\u001b[0m\u001b[0;34m,\u001b[0m \u001b[0mscope\u001b[0m\u001b[0;34m)\u001b[0m\u001b[0;34m\u001b[0m\u001b[0m\n\u001b[0m",
      "\u001b[0;32m/Users/hechengwang/.virtualenvs/cv/lib/python2.7/site-packages/spotipy/util.pyc\u001b[0m in \u001b[0;36mprompt_for_user_token\u001b[0;34m(username, scope, client_id, client_secret, redirect_uri)\u001b[0m\n\u001b[1;32m     45\u001b[0m                 \u001b[0mhttps\u001b[0m\u001b[0;34m:\u001b[0m\u001b[0;34m//\u001b[0m\u001b[0mdeveloper\u001b[0m\u001b[0;34m.\u001b[0m\u001b[0mspotify\u001b[0m\u001b[0;34m.\u001b[0m\u001b[0mcom\u001b[0m\u001b[0;34m/\u001b[0m\u001b[0mmy\u001b[0m\u001b[0;34m-\u001b[0m\u001b[0mapplications\u001b[0m\u001b[0;34m\u001b[0m\u001b[0m\n\u001b[1;32m     46\u001b[0m         ''')\n\u001b[0;32m---> 47\u001b[0;31m         \u001b[0;32mraise\u001b[0m \u001b[0mspotipy\u001b[0m\u001b[0;34m.\u001b[0m\u001b[0mSpotifyException\u001b[0m\u001b[0;34m(\u001b[0m\u001b[0;36m550\u001b[0m\u001b[0;34m,\u001b[0m \u001b[0;34m-\u001b[0m\u001b[0;36m1\u001b[0m\u001b[0;34m,\u001b[0m \u001b[0;34m'no credentials set'\u001b[0m\u001b[0;34m)\u001b[0m\u001b[0;34m\u001b[0m\u001b[0m\n\u001b[0m\u001b[1;32m     48\u001b[0m \u001b[0;34m\u001b[0m\u001b[0m\n\u001b[1;32m     49\u001b[0m     sp_oauth = oauth2.SpotifyOAuth(client_id, client_secret, redirect_uri, \n",
      "\u001b[0;31mSpotifyException\u001b[0m: http status: 550, code:-1 - no credentials set"
     ]
    }
   ],
   "source": [
    "spotify = spotipy.Spotify()\n",
    "scope = 'user-library-read'\n",
    "username = 'hmwang'\n",
    "token = util.prompt_for_user_token(username, scope)"
   ]
  },
  {
   "cell_type": "code",
   "execution_count": 9,
   "metadata": {
    "collapsed": false
   },
   "outputs": [
    {
     "data": {
      "text/plain": [
       "{u'external_urls': {u'spotify': u'https://open.spotify.com/artist/44gRHbEm4Uqa0ykW0rDTNk'},\n",
       " u'followers': {u'href': None, u'total': 75680},\n",
       " u'genres': [u'alternative rock',\n",
       "  u'indie pop',\n",
       "  u'permanent wave',\n",
       "  u'piano rock',\n",
       "  u'pop rock'],\n",
       " u'href': u'https://api.spotify.com/v1/artists/44gRHbEm4Uqa0ykW0rDTNk',\n",
       " u'id': u'44gRHbEm4Uqa0ykW0rDTNk',\n",
       " u'images': [{u'height': 1000,\n",
       "   u'url': u'https://i.scdn.co/image/92a8fbbe68b87001e1d096a4b1b7d1a29fdd364d',\n",
       "   u'width': 1000},\n",
       "  {u'height': 640,\n",
       "   u'url': u'https://i.scdn.co/image/72ec268a51113c8040981b89572f629b18c48cbf',\n",
       "   u'width': 640},\n",
       "  {u'height': 200,\n",
       "   u'url': u'https://i.scdn.co/image/96801bcf03b9eec8f20812504fe85e7b90edfa52',\n",
       "   u'width': 200},\n",
       "  {u'height': 64,\n",
       "   u'url': u'https://i.scdn.co/image/b0a610cba32f858fe8b5caffa0a8e39b16183b68',\n",
       "   u'width': 64}],\n",
       " u'name': u'Ben Folds Five',\n",
       " u'popularity': 52,\n",
       " u'type': u'artist',\n",
       " u'uri': u'spotify:artist:44gRHbEm4Uqa0ykW0rDTNk'}"
      ]
     },
     "execution_count": 9,
     "metadata": {},
     "output_type": "execute_result"
    }
   ],
   "source": [
    "spotify.artist('44gRHbEm4Uqa0ykW0rDTNk')"
   ]
  },
  {
   "cell_type": "code",
   "execution_count": 17,
   "metadata": {
    "collapsed": true
   },
   "outputs": [],
   "source": [
    "birdy_uri = 'spotify:artist:2WX2uTcsvV5OnS0inACecP'"
   ]
  },
  {
   "cell_type": "code",
   "execution_count": 18,
   "metadata": {
    "collapsed": false
   },
   "outputs": [],
   "source": [
    "results = spotify.artist_albums(birdy_uri, album_type='album')"
   ]
  },
  {
   "cell_type": "code",
   "execution_count": 19,
   "metadata": {
    "collapsed": false
   },
   "outputs": [
    {
     "data": {
      "text/plain": [
       "[u'items', u'next', u'href', u'limit', u'offset', u'total', u'previous']"
      ]
     },
     "execution_count": 19,
     "metadata": {},
     "output_type": "execute_result"
    }
   ],
   "source": [
    "results.keys()"
   ]
  },
  {
   "cell_type": "code",
   "execution_count": 13,
   "metadata": {
    "collapsed": false
   },
   "outputs": [
    {
     "ename": "SpotifyException",
     "evalue": "http status: 401, code:-1 - https://api.spotify.com/v1/audio-analysis/5wNnopxjgSKVvHTIcBpV8Q:\n No token provided",
     "output_type": "error",
     "traceback": [
      "\u001b[0;31m---------------------------------------------------------------------------\u001b[0m",
      "\u001b[0;31mSpotifyException\u001b[0m                          Traceback (most recent call last)",
      "\u001b[0;32m<ipython-input-13-fffcc9c9abf1>\u001b[0m in \u001b[0;36m<module>\u001b[0;34m()\u001b[0m\n\u001b[0;32m----> 1\u001b[0;31m \u001b[0mspotify\u001b[0m\u001b[0;34m.\u001b[0m\u001b[0maudio_analysis\u001b[0m\u001b[0;34m(\u001b[0m\u001b[0;34m'5wNnopxjgSKVvHTIcBpV8Q'\u001b[0m\u001b[0;34m)\u001b[0m\u001b[0;34m\u001b[0m\u001b[0m\n\u001b[0m",
      "\u001b[0;32m/Users/hechengwang/.virtualenvs/cv/lib/python2.7/site-packages/spotipy/client.pyc\u001b[0m in \u001b[0;36maudio_analysis\u001b[0;34m(self, id)\u001b[0m\n\u001b[1;32m    841\u001b[0m         '''\n\u001b[1;32m    842\u001b[0m         \u001b[0mid\u001b[0m \u001b[0;34m=\u001b[0m \u001b[0mself\u001b[0m\u001b[0;34m.\u001b[0m\u001b[0m_get_id\u001b[0m\u001b[0;34m(\u001b[0m\u001b[0;34m'track'\u001b[0m\u001b[0;34m,\u001b[0m \u001b[0mid\u001b[0m\u001b[0;34m)\u001b[0m\u001b[0;34m\u001b[0m\u001b[0m\n\u001b[0;32m--> 843\u001b[0;31m         \u001b[0;32mreturn\u001b[0m \u001b[0mself\u001b[0m\u001b[0;34m.\u001b[0m\u001b[0m_get\u001b[0m\u001b[0;34m(\u001b[0m\u001b[0;34m'audio-analysis/'\u001b[0m\u001b[0;34m+\u001b[0m\u001b[0mid\u001b[0m\u001b[0;34m)\u001b[0m\u001b[0;34m\u001b[0m\u001b[0m\n\u001b[0m\u001b[1;32m    844\u001b[0m \u001b[0;34m\u001b[0m\u001b[0m\n\u001b[1;32m    845\u001b[0m     \u001b[0;32mdef\u001b[0m \u001b[0m_get_id\u001b[0m\u001b[0;34m(\u001b[0m\u001b[0mself\u001b[0m\u001b[0;34m,\u001b[0m \u001b[0mtype\u001b[0m\u001b[0;34m,\u001b[0m \u001b[0mid\u001b[0m\u001b[0;34m)\u001b[0m\u001b[0;34m:\u001b[0m\u001b[0;34m\u001b[0m\u001b[0m\n",
      "\u001b[0;32m/Users/hechengwang/.virtualenvs/cv/lib/python2.7/site-packages/spotipy/client.pyc\u001b[0m in \u001b[0;36m_get\u001b[0;34m(self, url, args, payload, **kwargs)\u001b[0m\n\u001b[1;32m    144\u001b[0m         \u001b[0;32mwhile\u001b[0m \u001b[0mretries\u001b[0m \u001b[0;34m>\u001b[0m \u001b[0;36m0\u001b[0m\u001b[0;34m:\u001b[0m\u001b[0;34m\u001b[0m\u001b[0m\n\u001b[1;32m    145\u001b[0m             \u001b[0;32mtry\u001b[0m\u001b[0;34m:\u001b[0m\u001b[0;34m\u001b[0m\u001b[0m\n\u001b[0;32m--> 146\u001b[0;31m                 \u001b[0;32mreturn\u001b[0m \u001b[0mself\u001b[0m\u001b[0;34m.\u001b[0m\u001b[0m_internal_call\u001b[0m\u001b[0;34m(\u001b[0m\u001b[0;34m'GET'\u001b[0m\u001b[0;34m,\u001b[0m \u001b[0murl\u001b[0m\u001b[0;34m,\u001b[0m \u001b[0mpayload\u001b[0m\u001b[0;34m,\u001b[0m \u001b[0mkwargs\u001b[0m\u001b[0;34m)\u001b[0m\u001b[0;34m\u001b[0m\u001b[0m\n\u001b[0m\u001b[1;32m    147\u001b[0m             \u001b[0;32mexcept\u001b[0m \u001b[0mSpotifyException\u001b[0m \u001b[0;32mas\u001b[0m \u001b[0me\u001b[0m\u001b[0;34m:\u001b[0m\u001b[0;34m\u001b[0m\u001b[0m\n\u001b[1;32m    148\u001b[0m                 \u001b[0mretries\u001b[0m \u001b[0;34m-=\u001b[0m \u001b[0;36m1\u001b[0m\u001b[0;34m\u001b[0m\u001b[0m\n",
      "\u001b[0;32m/Users/hechengwang/.virtualenvs/cv/lib/python2.7/site-packages/spotipy/client.pyc\u001b[0m in \u001b[0;36m_internal_call\u001b[0;34m(self, method, url, payload, params)\u001b[0m\n\u001b[1;32m    122\u001b[0m                 raise SpotifyException(r.status_code,\n\u001b[1;32m    123\u001b[0m                     \u001b[0;34m-\u001b[0m\u001b[0;36m1\u001b[0m\u001b[0;34m,\u001b[0m \u001b[0;34m'%s:\\n %s'\u001b[0m \u001b[0;34m%\u001b[0m \u001b[0;34m(\u001b[0m\u001b[0mr\u001b[0m\u001b[0;34m.\u001b[0m\u001b[0murl\u001b[0m\u001b[0;34m,\u001b[0m \u001b[0mr\u001b[0m\u001b[0;34m.\u001b[0m\u001b[0mjson\u001b[0m\u001b[0;34m(\u001b[0m\u001b[0;34m)\u001b[0m\u001b[0;34m[\u001b[0m\u001b[0;34m'error'\u001b[0m\u001b[0;34m]\u001b[0m\u001b[0;34m[\u001b[0m\u001b[0;34m'message'\u001b[0m\u001b[0;34m]\u001b[0m\u001b[0;34m)\u001b[0m\u001b[0;34m,\u001b[0m\u001b[0;34m\u001b[0m\u001b[0m\n\u001b[0;32m--> 124\u001b[0;31m                     headers=r.headers)\n\u001b[0m\u001b[1;32m    125\u001b[0m             \u001b[0;32melse\u001b[0m\u001b[0;34m:\u001b[0m\u001b[0;34m\u001b[0m\u001b[0m\n\u001b[1;32m    126\u001b[0m                 raise SpotifyException(r.status_code,\n",
      "\u001b[0;31mSpotifyException\u001b[0m: http status: 401, code:-1 - https://api.spotify.com/v1/audio-analysis/5wNnopxjgSKVvHTIcBpV8Q:\n No token provided"
     ]
    }
   ],
   "source": [
    "spotify.audio_analysis('5wNnopxjgSKVvHTIcBpV8Q')"
   ]
  },
  {
   "cell_type": "code",
   "execution_count": 25,
   "metadata": {
    "collapsed": false
   },
   "outputs": [],
   "source": [
    "items = results['items']"
   ]
  },
  {
   "cell_type": "code",
   "execution_count": 36,
   "metadata": {
    "collapsed": false
   },
   "outputs": [
    {
     "ename": "SpotifyException",
     "evalue": "http status: 401, code:-1 - https://api.spotify.com/v1/audio-features/?ids=06AKEBrKUckW0KREUWRnvT:\n No token provided",
     "output_type": "error",
     "traceback": [
      "\u001b[0;31m---------------------------------------------------------------------------\u001b[0m",
      "\u001b[0;31mSpotifyException\u001b[0m                          Traceback (most recent call last)",
      "\u001b[0;32m<ipython-input-36-d40230faf746>\u001b[0m in \u001b[0;36m<module>\u001b[0;34m()\u001b[0m\n\u001b[0;32m----> 1\u001b[0;31m \u001b[0mspotify\u001b[0m\u001b[0;34m.\u001b[0m\u001b[0maudio_features\u001b[0m\u001b[0;34m(\u001b[0m\u001b[0;34m'06AKEBrKUckW0KREUWRnvT'\u001b[0m\u001b[0;34m)\u001b[0m\u001b[0;34m\u001b[0m\u001b[0m\n\u001b[0m",
      "\u001b[0;32m/Users/hechengwang/.virtualenvs/cv/lib/python2.7/site-packages/spotipy/client.pyc\u001b[0m in \u001b[0;36maudio_features\u001b[0;34m(self, tracks)\u001b[0m\n\u001b[1;32m    824\u001b[0m         \u001b[0;32mif\u001b[0m \u001b[0misinstance\u001b[0m\u001b[0;34m(\u001b[0m\u001b[0mtracks\u001b[0m\u001b[0;34m,\u001b[0m \u001b[0mstr\u001b[0m\u001b[0;34m)\u001b[0m\u001b[0;34m:\u001b[0m\u001b[0;34m\u001b[0m\u001b[0m\n\u001b[1;32m    825\u001b[0m             \u001b[0mtrackid\u001b[0m \u001b[0;34m=\u001b[0m \u001b[0mself\u001b[0m\u001b[0;34m.\u001b[0m\u001b[0m_get_id\u001b[0m\u001b[0;34m(\u001b[0m\u001b[0;34m'track'\u001b[0m\u001b[0;34m,\u001b[0m \u001b[0mtracks\u001b[0m\u001b[0;34m)\u001b[0m\u001b[0;34m\u001b[0m\u001b[0m\n\u001b[0;32m--> 826\u001b[0;31m             \u001b[0mresults\u001b[0m \u001b[0;34m=\u001b[0m \u001b[0mself\u001b[0m\u001b[0;34m.\u001b[0m\u001b[0m_get\u001b[0m\u001b[0;34m(\u001b[0m\u001b[0;34m'audio-features/?ids='\u001b[0m \u001b[0;34m+\u001b[0m \u001b[0mtrackid\u001b[0m\u001b[0;34m)\u001b[0m\u001b[0;34m\u001b[0m\u001b[0m\n\u001b[0m\u001b[1;32m    827\u001b[0m         \u001b[0;32melse\u001b[0m\u001b[0;34m:\u001b[0m\u001b[0;34m\u001b[0m\u001b[0m\n\u001b[1;32m    828\u001b[0m             \u001b[0mtlist\u001b[0m \u001b[0;34m=\u001b[0m \u001b[0;34m[\u001b[0m\u001b[0mself\u001b[0m\u001b[0;34m.\u001b[0m\u001b[0m_get_id\u001b[0m\u001b[0;34m(\u001b[0m\u001b[0;34m'track'\u001b[0m\u001b[0;34m,\u001b[0m \u001b[0mt\u001b[0m\u001b[0;34m)\u001b[0m \u001b[0;32mfor\u001b[0m \u001b[0mt\u001b[0m \u001b[0;32min\u001b[0m \u001b[0mtracks\u001b[0m\u001b[0;34m]\u001b[0m\u001b[0;34m\u001b[0m\u001b[0m\n",
      "\u001b[0;32m/Users/hechengwang/.virtualenvs/cv/lib/python2.7/site-packages/spotipy/client.pyc\u001b[0m in \u001b[0;36m_get\u001b[0;34m(self, url, args, payload, **kwargs)\u001b[0m\n\u001b[1;32m    144\u001b[0m         \u001b[0;32mwhile\u001b[0m \u001b[0mretries\u001b[0m \u001b[0;34m>\u001b[0m \u001b[0;36m0\u001b[0m\u001b[0;34m:\u001b[0m\u001b[0;34m\u001b[0m\u001b[0m\n\u001b[1;32m    145\u001b[0m             \u001b[0;32mtry\u001b[0m\u001b[0;34m:\u001b[0m\u001b[0;34m\u001b[0m\u001b[0m\n\u001b[0;32m--> 146\u001b[0;31m                 \u001b[0;32mreturn\u001b[0m \u001b[0mself\u001b[0m\u001b[0;34m.\u001b[0m\u001b[0m_internal_call\u001b[0m\u001b[0;34m(\u001b[0m\u001b[0;34m'GET'\u001b[0m\u001b[0;34m,\u001b[0m \u001b[0murl\u001b[0m\u001b[0;34m,\u001b[0m \u001b[0mpayload\u001b[0m\u001b[0;34m,\u001b[0m \u001b[0mkwargs\u001b[0m\u001b[0;34m)\u001b[0m\u001b[0;34m\u001b[0m\u001b[0m\n\u001b[0m\u001b[1;32m    147\u001b[0m             \u001b[0;32mexcept\u001b[0m \u001b[0mSpotifyException\u001b[0m \u001b[0;32mas\u001b[0m \u001b[0me\u001b[0m\u001b[0;34m:\u001b[0m\u001b[0;34m\u001b[0m\u001b[0m\n\u001b[1;32m    148\u001b[0m                 \u001b[0mretries\u001b[0m \u001b[0;34m-=\u001b[0m \u001b[0;36m1\u001b[0m\u001b[0;34m\u001b[0m\u001b[0m\n",
      "\u001b[0;32m/Users/hechengwang/.virtualenvs/cv/lib/python2.7/site-packages/spotipy/client.pyc\u001b[0m in \u001b[0;36m_internal_call\u001b[0;34m(self, method, url, payload, params)\u001b[0m\n\u001b[1;32m    122\u001b[0m                 raise SpotifyException(r.status_code,\n\u001b[1;32m    123\u001b[0m                     \u001b[0;34m-\u001b[0m\u001b[0;36m1\u001b[0m\u001b[0;34m,\u001b[0m \u001b[0;34m'%s:\\n %s'\u001b[0m \u001b[0;34m%\u001b[0m \u001b[0;34m(\u001b[0m\u001b[0mr\u001b[0m\u001b[0;34m.\u001b[0m\u001b[0murl\u001b[0m\u001b[0;34m,\u001b[0m \u001b[0mr\u001b[0m\u001b[0;34m.\u001b[0m\u001b[0mjson\u001b[0m\u001b[0;34m(\u001b[0m\u001b[0;34m)\u001b[0m\u001b[0;34m[\u001b[0m\u001b[0;34m'error'\u001b[0m\u001b[0;34m]\u001b[0m\u001b[0;34m[\u001b[0m\u001b[0;34m'message'\u001b[0m\u001b[0;34m]\u001b[0m\u001b[0;34m)\u001b[0m\u001b[0;34m,\u001b[0m\u001b[0;34m\u001b[0m\u001b[0m\n\u001b[0;32m--> 124\u001b[0;31m                     headers=r.headers)\n\u001b[0m\u001b[1;32m    125\u001b[0m             \u001b[0;32melse\u001b[0m\u001b[0;34m:\u001b[0m\u001b[0;34m\u001b[0m\u001b[0m\n\u001b[1;32m    126\u001b[0m                 raise SpotifyException(r.status_code,\n",
      "\u001b[0;31mSpotifyException\u001b[0m: http status: 401, code:-1 - https://api.spotify.com/v1/audio-features/?ids=06AKEBrKUckW0KREUWRnvT:\n No token provided"
     ]
    }
   ],
   "source": [
    "spotify.audio_features('06AKEBrKUckW0KREUWRnvT')"
   ]
  },
  {
   "cell_type": "code",
   "execution_count": 41,
   "metadata": {
    "collapsed": false
   },
   "outputs": [
    {
     "name": "stdout",
     "output_type": "stream",
     "text": [
      "70\n",
      "[u'album', u'name', u'uri', u'external_urls', u'popularity', u'explicit', u'preview_url', u'track_number', u'disc_number', u'href', u'artists', u'duration_ms', u'external_ids', u'type', u'id', u'available_markets']\n",
      "69\n",
      "[u'album', u'name', u'uri', u'external_urls', u'popularity', u'explicit', u'preview_url', u'track_number', u'disc_number', u'href', u'artists', u'duration_ms', u'external_ids', u'type', u'id', u'available_markets']\n",
      "67\n",
      "[u'album', u'name', u'uri', u'external_urls', u'popularity', u'explicit', u'preview_url', u'track_number', u'disc_number', u'href', u'artists', u'duration_ms', u'external_ids', u'type', u'id', u'available_markets']\n",
      "64\n",
      "[u'album', u'name', u'uri', u'external_urls', u'popularity', u'explicit', u'preview_url', u'track_number', u'disc_number', u'href', u'artists', u'duration_ms', u'external_ids', u'type', u'id', u'available_markets']\n",
      "64\n",
      "[u'album', u'name', u'uri', u'external_urls', u'popularity', u'explicit', u'preview_url', u'track_number', u'disc_number', u'href', u'artists', u'duration_ms', u'external_ids', u'type', u'id', u'available_markets']\n",
      "61\n",
      "[u'album', u'name', u'uri', u'external_urls', u'popularity', u'explicit', u'preview_url', u'track_number', u'disc_number', u'href', u'artists', u'duration_ms', u'external_ids', u'type', u'id', u'available_markets']\n",
      "60\n",
      "[u'album', u'name', u'uri', u'external_urls', u'popularity', u'explicit', u'preview_url', u'track_number', u'disc_number', u'href', u'artists', u'duration_ms', u'external_ids', u'type', u'id', u'available_markets']\n",
      "58\n",
      "[u'album', u'name', u'uri', u'external_urls', u'popularity', u'explicit', u'preview_url', u'track_number', u'disc_number', u'href', u'artists', u'duration_ms', u'external_ids', u'type', u'id', u'available_markets']\n",
      "58\n",
      "[u'album', u'name', u'uri', u'external_urls', u'popularity', u'explicit', u'preview_url', u'track_number', u'disc_number', u'href', u'artists', u'duration_ms', u'external_ids', u'type', u'id', u'available_markets']\n",
      "57\n",
      "[u'album', u'name', u'uri', u'external_urls', u'popularity', u'explicit', u'preview_url', u'track_number', u'disc_number', u'href', u'artists', u'duration_ms', u'external_ids', u'type', u'id', u'available_markets']\n"
     ]
    }
   ],
   "source": [
    "for track in results['tracks']:\n",
    "    print track['popularity']\n",
    "    print track.keys()"
   ]
  },
  {
   "cell_type": "code",
   "execution_count": 27,
   "metadata": {
    "collapsed": false
   },
   "outputs": [
    {
     "name": "stdout",
     "output_type": "stream",
     "text": [
      "track    : Stairway To Heaven\n",
      "audio    : https://p.scdn.co/mp3-preview/8226164717312bc411f8635580562d67e191a754?cid=null\n",
      "cover art: https://i.scdn.co/image/557a6058e3de72bf37ffcd2c12dd5932276df344\n",
      "\n",
      "track    : Whole Lotta Love\n",
      "audio    : https://p.scdn.co/mp3-preview/ce11b19a4d2de9976d7626df0717d0073863909c?cid=null\n",
      "cover art: https://i.scdn.co/image/5fa3a6cc1848ea743a293d2088046746d1b09608\n",
      "\n",
      "track    : Ramble On\n",
      "audio    : https://p.scdn.co/mp3-preview/83383aceb01ea27b0bffdedfaebe55e29b33aca2?cid=null\n",
      "cover art: https://i.scdn.co/image/5fa3a6cc1848ea743a293d2088046746d1b09608\n",
      "\n",
      "track    : Good Times Bad Times\n",
      "audio    : https://p.scdn.co/mp3-preview/c1f024eb57b569b926c8e68cab0a6056dc7d9654?cid=null\n",
      "cover art: https://i.scdn.co/image/71e6a72a1b3a00d2ddabee9a3e2d5ade3be25409\n",
      "\n",
      "track    : Immigrant Song\n",
      "audio    : https://p.scdn.co/mp3-preview/9a4035acd7743242c6fefb26c14442b3fd34da44?cid=null\n",
      "cover art: https://i.scdn.co/image/cfe780cc1b1ce4f5c756a649cdffa7da6dcedbe3\n",
      "\n",
      "track    : Kashmir\n",
      "audio    : https://p.scdn.co/mp3-preview/13b2c47c98132f80a5ce12d8a4ceb192ba7a4345?cid=null\n",
      "cover art: https://i.scdn.co/image/e9e82cfa89aaeb1f6b1f8756a98e40ccc65e8a01\n",
      "\n",
      "track    : Black Dog\n",
      "audio    : https://p.scdn.co/mp3-preview/9b76619fd9d563a48d38cc90ca00c3008327b52e?cid=null\n",
      "cover art: https://i.scdn.co/image/557a6058e3de72bf37ffcd2c12dd5932276df344\n",
      "\n",
      "track    : Heartbreaker\n",
      "audio    : https://p.scdn.co/mp3-preview/01ecc69cb05ce5234bd24a2224fb4edbf7c0daba?cid=null\n",
      "cover art: https://i.scdn.co/image/5fa3a6cc1848ea743a293d2088046746d1b09608\n",
      "\n",
      "track    : Babe I'm Gonna Leave You\n",
      "audio    : https://p.scdn.co/mp3-preview/e82d356bea5c8244cee4e6d5447b46b87852dc11?cid=null\n",
      "cover art: https://i.scdn.co/image/71e6a72a1b3a00d2ddabee9a3e2d5ade3be25409\n",
      "\n",
      "track    : Rock And Roll\n",
      "audio    : https://p.scdn.co/mp3-preview/e7ea8a13f7caf6942c5447e9cd96aac2a076d85a?cid=null\n",
      "cover art: https://i.scdn.co/image/557a6058e3de72bf37ffcd2c12dd5932276df344\n",
      "\n"
     ]
    }
   ],
   "source": [
    "lz_uri = 'spotify:artist:36QJpDe2go2KgaRleHCDTp'\n",
    "\n",
    "results = spotify.artist_top_tracks(lz_uri)\n",
    "\n",
    "for track in results['tracks'][:10]:\n",
    "    print 'track    : ' + track['name']\n",
    "    print 'audio    : ' + track['preview_url']\n",
    "    print 'cover art: ' + track['album']['images'][0]['url']\n",
    "    print"
   ]
  },
  {
   "cell_type": "code",
   "execution_count": null,
   "metadata": {
    "collapsed": true
   },
   "outputs": [],
   "source": []
  },
  {
   "cell_type": "code",
   "execution_count": 70,
   "metadata": {
    "collapsed": false
   },
   "outputs": [],
   "source": [
    "kk = spotify.search('US', limit = 50, type = 'playlist')"
   ]
  },
  {
   "cell_type": "code",
   "execution_count": 86,
   "metadata": {
    "collapsed": false
   },
   "outputs": [
    {
     "name": "stdout",
     "output_type": "stream",
     "text": [
      "[u'name', u'collaborative', u'external_urls', u'uri', u'public', u'owner', u'tracks', u'href', u'snapshot_id', u'images', u'type', u'id']\n",
      "[u'name', u'collaborative', u'external_urls', u'uri', u'public', u'owner', u'tracks', u'href', u'snapshot_id', u'images', u'type', u'id']\n",
      "[u'name', u'collaborative', u'external_urls', u'uri', u'public', u'owner', u'tracks', u'href', u'snapshot_id', u'images', u'type', u'id']\n",
      "[u'name', u'collaborative', u'external_urls', u'uri', u'public', u'owner', u'tracks', u'href', u'snapshot_id', u'images', u'type', u'id']\n",
      "[u'name', u'collaborative', u'external_urls', u'uri', u'public', u'owner', u'tracks', u'href', u'snapshot_id', u'images', u'type', u'id']\n",
      "[u'name', u'collaborative', u'external_urls', u'uri', u'public', u'owner', u'tracks', u'href', u'snapshot_id', u'images', u'type', u'id']\n",
      "[u'name', u'collaborative', u'external_urls', u'uri', u'public', u'owner', u'tracks', u'href', u'snapshot_id', u'images', u'type', u'id']\n",
      "[u'name', u'collaborative', u'external_urls', u'uri', u'public', u'owner', u'tracks', u'href', u'snapshot_id', u'images', u'type', u'id']\n",
      "[u'name', u'collaborative', u'external_urls', u'uri', u'public', u'owner', u'tracks', u'href', u'snapshot_id', u'images', u'type', u'id']\n",
      "[u'name', u'collaborative', u'external_urls', u'uri', u'public', u'owner', u'tracks', u'href', u'snapshot_id', u'images', u'type', u'id']\n",
      "[u'name', u'collaborative', u'external_urls', u'uri', u'public', u'owner', u'tracks', u'href', u'snapshot_id', u'images', u'type', u'id']\n",
      "[u'name', u'collaborative', u'external_urls', u'uri', u'public', u'owner', u'tracks', u'href', u'snapshot_id', u'images', u'type', u'id']\n",
      "[u'name', u'collaborative', u'external_urls', u'uri', u'public', u'owner', u'tracks', u'href', u'snapshot_id', u'images', u'type', u'id']\n",
      "[u'name', u'collaborative', u'external_urls', u'uri', u'public', u'owner', u'tracks', u'href', u'snapshot_id', u'images', u'type', u'id']\n",
      "[u'name', u'collaborative', u'external_urls', u'uri', u'public', u'owner', u'tracks', u'href', u'snapshot_id', u'images', u'type', u'id']\n",
      "[u'name', u'collaborative', u'external_urls', u'uri', u'public', u'owner', u'tracks', u'href', u'snapshot_id', u'images', u'type', u'id']\n",
      "[u'name', u'collaborative', u'external_urls', u'uri', u'public', u'owner', u'tracks', u'href', u'snapshot_id', u'images', u'type', u'id']\n",
      "[u'name', u'collaborative', u'external_urls', u'uri', u'public', u'owner', u'tracks', u'href', u'snapshot_id', u'images', u'type', u'id']\n",
      "[u'name', u'collaborative', u'external_urls', u'uri', u'public', u'owner', u'tracks', u'href', u'snapshot_id', u'images', u'type', u'id']\n",
      "[u'name', u'collaborative', u'external_urls', u'uri', u'public', u'owner', u'tracks', u'href', u'snapshot_id', u'images', u'type', u'id']\n",
      "[u'name', u'collaborative', u'external_urls', u'uri', u'public', u'owner', u'tracks', u'href', u'snapshot_id', u'images', u'type', u'id']\n",
      "[u'name', u'collaborative', u'external_urls', u'uri', u'public', u'owner', u'tracks', u'href', u'snapshot_id', u'images', u'type', u'id']\n",
      "[u'name', u'collaborative', u'external_urls', u'uri', u'public', u'owner', u'tracks', u'href', u'snapshot_id', u'images', u'type', u'id']\n",
      "[u'name', u'collaborative', u'external_urls', u'uri', u'public', u'owner', u'tracks', u'href', u'snapshot_id', u'images', u'type', u'id']\n",
      "[u'name', u'collaborative', u'external_urls', u'uri', u'public', u'owner', u'tracks', u'href', u'snapshot_id', u'images', u'type', u'id']\n",
      "[u'name', u'collaborative', u'external_urls', u'uri', u'public', u'owner', u'tracks', u'href', u'snapshot_id', u'images', u'type', u'id']\n",
      "[u'name', u'collaborative', u'external_urls', u'uri', u'public', u'owner', u'tracks', u'href', u'snapshot_id', u'images', u'type', u'id']\n",
      "[u'name', u'collaborative', u'external_urls', u'uri', u'public', u'owner', u'tracks', u'href', u'snapshot_id', u'images', u'type', u'id']\n",
      "[u'name', u'collaborative', u'external_urls', u'uri', u'public', u'owner', u'tracks', u'href', u'snapshot_id', u'images', u'type', u'id']\n",
      "[u'name', u'collaborative', u'external_urls', u'uri', u'public', u'owner', u'tracks', u'href', u'snapshot_id', u'images', u'type', u'id']\n",
      "[u'name', u'collaborative', u'external_urls', u'uri', u'public', u'owner', u'tracks', u'href', u'snapshot_id', u'images', u'type', u'id']\n",
      "[u'name', u'collaborative', u'external_urls', u'uri', u'public', u'owner', u'tracks', u'href', u'snapshot_id', u'images', u'type', u'id']\n",
      "[u'name', u'collaborative', u'external_urls', u'uri', u'public', u'owner', u'tracks', u'href', u'snapshot_id', u'images', u'type', u'id']\n",
      "[u'name', u'collaborative', u'external_urls', u'uri', u'public', u'owner', u'tracks', u'href', u'snapshot_id', u'images', u'type', u'id']\n",
      "[u'name', u'collaborative', u'external_urls', u'uri', u'public', u'owner', u'tracks', u'href', u'snapshot_id', u'images', u'type', u'id']\n",
      "[u'name', u'collaborative', u'external_urls', u'uri', u'public', u'owner', u'tracks', u'href', u'snapshot_id', u'images', u'type', u'id']\n",
      "[u'name', u'collaborative', u'external_urls', u'uri', u'public', u'owner', u'tracks', u'href', u'snapshot_id', u'images', u'type', u'id']\n",
      "[u'name', u'collaborative', u'external_urls', u'uri', u'public', u'owner', u'tracks', u'href', u'snapshot_id', u'images', u'type', u'id']\n",
      "[u'name', u'collaborative', u'external_urls', u'uri', u'public', u'owner', u'tracks', u'href', u'snapshot_id', u'images', u'type', u'id']\n",
      "[u'name', u'collaborative', u'external_urls', u'uri', u'public', u'owner', u'tracks', u'href', u'snapshot_id', u'images', u'type', u'id']\n",
      "[u'name', u'collaborative', u'external_urls', u'uri', u'public', u'owner', u'tracks', u'href', u'snapshot_id', u'images', u'type', u'id']\n",
      "[u'name', u'collaborative', u'external_urls', u'uri', u'public', u'owner', u'tracks', u'href', u'snapshot_id', u'images', u'type', u'id']\n",
      "[u'name', u'collaborative', u'external_urls', u'uri', u'public', u'owner', u'tracks', u'href', u'snapshot_id', u'images', u'type', u'id']\n",
      "[u'name', u'collaborative', u'external_urls', u'uri', u'public', u'owner', u'tracks', u'href', u'snapshot_id', u'images', u'type', u'id']\n",
      "[u'name', u'collaborative', u'external_urls', u'uri', u'public', u'owner', u'tracks', u'href', u'snapshot_id', u'images', u'type', u'id']\n",
      "[u'name', u'collaborative', u'external_urls', u'uri', u'public', u'owner', u'tracks', u'href', u'snapshot_id', u'images', u'type', u'id']\n",
      "[u'name', u'collaborative', u'external_urls', u'uri', u'public', u'owner', u'tracks', u'href', u'snapshot_id', u'images', u'type', u'id']\n",
      "[u'name', u'collaborative', u'external_urls', u'uri', u'public', u'owner', u'tracks', u'href', u'snapshot_id', u'images', u'type', u'id']\n",
      "[u'name', u'collaborative', u'external_urls', u'uri', u'public', u'owner', u'tracks', u'href', u'snapshot_id', u'images', u'type', u'id']\n",
      "[u'name', u'collaborative', u'external_urls', u'uri', u'public', u'owner', u'tracks', u'href', u'snapshot_id', u'images', u'type', u'id']\n"
     ]
    }
   ],
   "source": [
    "for playlist in kk['playlists']['items']:\n",
    "    print playlist.keys()"
   ]
  },
  {
   "cell_type": "code",
   "execution_count": 88,
   "metadata": {
    "collapsed": false
   },
   "outputs": [
    {
     "ename": "SpotifyException",
     "evalue": "http status: 401, code:-1 - https://api.spotify.com/v1/browse/new-releases?limit=20&offset=0:\n No token provided",
     "output_type": "error",
     "traceback": [
      "\u001b[0;31m---------------------------------------------------------------------------\u001b[0m",
      "\u001b[0;31mSpotifyException\u001b[0m                          Traceback (most recent call last)",
      "\u001b[0;32m<ipython-input-88-f7a375f1d0b1>\u001b[0m in \u001b[0;36m<module>\u001b[0;34m()\u001b[0m\n\u001b[0;32m----> 1\u001b[0;31m \u001b[0mspotify\u001b[0m\u001b[0;34m.\u001b[0m\u001b[0mnew_releases\u001b[0m\u001b[0;34m(\u001b[0m\u001b[0;34m)\u001b[0m\u001b[0;34m\u001b[0m\u001b[0m\n\u001b[0m",
      "\u001b[0;32m/Users/hechengwang/.virtualenvs/cv/lib/python2.7/site-packages/spotipy/client.pyc\u001b[0m in \u001b[0;36mnew_releases\u001b[0;34m(self, country, limit, offset)\u001b[0m\n\u001b[1;32m    720\u001b[0m         '''\n\u001b[1;32m    721\u001b[0m         return self._get('browse/new-releases', country=country, limit=limit,\n\u001b[0;32m--> 722\u001b[0;31m                          offset=offset)\n\u001b[0m\u001b[1;32m    723\u001b[0m \u001b[0;34m\u001b[0m\u001b[0m\n\u001b[1;32m    724\u001b[0m     \u001b[0;32mdef\u001b[0m \u001b[0mcategories\u001b[0m\u001b[0;34m(\u001b[0m\u001b[0mself\u001b[0m\u001b[0;34m,\u001b[0m \u001b[0mcountry\u001b[0m\u001b[0;34m=\u001b[0m\u001b[0mNone\u001b[0m\u001b[0;34m,\u001b[0m \u001b[0mlocale\u001b[0m\u001b[0;34m=\u001b[0m\u001b[0mNone\u001b[0m\u001b[0;34m,\u001b[0m \u001b[0mlimit\u001b[0m\u001b[0;34m=\u001b[0m\u001b[0;36m20\u001b[0m\u001b[0;34m,\u001b[0m \u001b[0moffset\u001b[0m\u001b[0;34m=\u001b[0m\u001b[0;36m0\u001b[0m\u001b[0;34m)\u001b[0m\u001b[0;34m:\u001b[0m\u001b[0;34m\u001b[0m\u001b[0m\n",
      "\u001b[0;32m/Users/hechengwang/.virtualenvs/cv/lib/python2.7/site-packages/spotipy/client.pyc\u001b[0m in \u001b[0;36m_get\u001b[0;34m(self, url, args, payload, **kwargs)\u001b[0m\n\u001b[1;32m    144\u001b[0m         \u001b[0;32mwhile\u001b[0m \u001b[0mretries\u001b[0m \u001b[0;34m>\u001b[0m \u001b[0;36m0\u001b[0m\u001b[0;34m:\u001b[0m\u001b[0;34m\u001b[0m\u001b[0m\n\u001b[1;32m    145\u001b[0m             \u001b[0;32mtry\u001b[0m\u001b[0;34m:\u001b[0m\u001b[0;34m\u001b[0m\u001b[0m\n\u001b[0;32m--> 146\u001b[0;31m                 \u001b[0;32mreturn\u001b[0m \u001b[0mself\u001b[0m\u001b[0;34m.\u001b[0m\u001b[0m_internal_call\u001b[0m\u001b[0;34m(\u001b[0m\u001b[0;34m'GET'\u001b[0m\u001b[0;34m,\u001b[0m \u001b[0murl\u001b[0m\u001b[0;34m,\u001b[0m \u001b[0mpayload\u001b[0m\u001b[0;34m,\u001b[0m \u001b[0mkwargs\u001b[0m\u001b[0;34m)\u001b[0m\u001b[0;34m\u001b[0m\u001b[0m\n\u001b[0m\u001b[1;32m    147\u001b[0m             \u001b[0;32mexcept\u001b[0m \u001b[0mSpotifyException\u001b[0m \u001b[0;32mas\u001b[0m \u001b[0me\u001b[0m\u001b[0;34m:\u001b[0m\u001b[0;34m\u001b[0m\u001b[0m\n\u001b[1;32m    148\u001b[0m                 \u001b[0mretries\u001b[0m \u001b[0;34m-=\u001b[0m \u001b[0;36m1\u001b[0m\u001b[0;34m\u001b[0m\u001b[0m\n",
      "\u001b[0;32m/Users/hechengwang/.virtualenvs/cv/lib/python2.7/site-packages/spotipy/client.pyc\u001b[0m in \u001b[0;36m_internal_call\u001b[0;34m(self, method, url, payload, params)\u001b[0m\n\u001b[1;32m    122\u001b[0m                 raise SpotifyException(r.status_code,\n\u001b[1;32m    123\u001b[0m                     \u001b[0;34m-\u001b[0m\u001b[0;36m1\u001b[0m\u001b[0;34m,\u001b[0m \u001b[0;34m'%s:\\n %s'\u001b[0m \u001b[0;34m%\u001b[0m \u001b[0;34m(\u001b[0m\u001b[0mr\u001b[0m\u001b[0;34m.\u001b[0m\u001b[0murl\u001b[0m\u001b[0;34m,\u001b[0m \u001b[0mr\u001b[0m\u001b[0;34m.\u001b[0m\u001b[0mjson\u001b[0m\u001b[0;34m(\u001b[0m\u001b[0;34m)\u001b[0m\u001b[0;34m[\u001b[0m\u001b[0;34m'error'\u001b[0m\u001b[0;34m]\u001b[0m\u001b[0;34m[\u001b[0m\u001b[0;34m'message'\u001b[0m\u001b[0;34m]\u001b[0m\u001b[0;34m)\u001b[0m\u001b[0;34m,\u001b[0m\u001b[0;34m\u001b[0m\u001b[0m\n\u001b[0;32m--> 124\u001b[0;31m                     headers=r.headers)\n\u001b[0m\u001b[1;32m    125\u001b[0m             \u001b[0;32melse\u001b[0m\u001b[0;34m:\u001b[0m\u001b[0;34m\u001b[0m\u001b[0m\n\u001b[1;32m    126\u001b[0m                 raise SpotifyException(r.status_code,\n",
      "\u001b[0;31mSpotifyException\u001b[0m: http status: 401, code:-1 - https://api.spotify.com/v1/browse/new-releases?limit=20&offset=0:\n No token provided"
     ]
    }
   ],
   "source": [
    "spotify.new_releases()"
   ]
  },
  {
   "cell_type": "code",
   "execution_count": 51,
   "metadata": {
    "collapsed": false
   },
   "outputs": [
    {
     "ename": "SpotifyException",
     "evalue": "http status: 401, code:-1 - https://api.spotify.com/v1/users/janice__nam/playlists/5eYX1Fv558PEeCpVxq5PyT:\n This request requires authentication.",
     "output_type": "error",
     "traceback": [
      "\u001b[0;31m---------------------------------------------------------------------------\u001b[0m",
      "\u001b[0;31mSpotifyException\u001b[0m                          Traceback (most recent call last)",
      "\u001b[0;32m<ipython-input-51-de07587fa752>\u001b[0m in \u001b[0;36m<module>\u001b[0;34m()\u001b[0m\n\u001b[0;32m----> 1\u001b[0;31m \u001b[0mspotify\u001b[0m\u001b[0;34m.\u001b[0m\u001b[0muser_playlist\u001b[0m\u001b[0;34m(\u001b[0m\u001b[0muser\u001b[0m \u001b[0;34m=\u001b[0m \u001b[0;34m'janice__nam'\u001b[0m\u001b[0;34m,\u001b[0m \u001b[0mplaylist_id\u001b[0m \u001b[0;34m=\u001b[0m \u001b[0;34m'5eYX1Fv558PEeCpVxq5PyT'\u001b[0m\u001b[0;34m)\u001b[0m\u001b[0;34m\u001b[0m\u001b[0m\n\u001b[0m",
      "\u001b[0;32m/Users/hechengwang/.virtualenvs/cv/lib/python2.7/site-packages/spotipy/client.pyc\u001b[0m in \u001b[0;36muser_playlist\u001b[0;34m(self, user, playlist_id, fields)\u001b[0m\n\u001b[1;32m    376\u001b[0m             \u001b[0;32mreturn\u001b[0m \u001b[0mself\u001b[0m\u001b[0;34m.\u001b[0m\u001b[0m_get\u001b[0m\u001b[0;34m(\u001b[0m\u001b[0;34m\"users/%s/starred\"\u001b[0m \u001b[0;34m%\u001b[0m \u001b[0;34m(\u001b[0m\u001b[0muser\u001b[0m\u001b[0;34m)\u001b[0m\u001b[0;34m,\u001b[0m \u001b[0mfields\u001b[0m\u001b[0;34m=\u001b[0m\u001b[0mfields\u001b[0m\u001b[0;34m)\u001b[0m\u001b[0;34m\u001b[0m\u001b[0m\n\u001b[1;32m    377\u001b[0m         \u001b[0mplid\u001b[0m \u001b[0;34m=\u001b[0m \u001b[0mself\u001b[0m\u001b[0;34m.\u001b[0m\u001b[0m_get_id\u001b[0m\u001b[0;34m(\u001b[0m\u001b[0;34m'playlist'\u001b[0m\u001b[0;34m,\u001b[0m \u001b[0mplaylist_id\u001b[0m\u001b[0;34m)\u001b[0m\u001b[0;34m\u001b[0m\u001b[0m\n\u001b[0;32m--> 378\u001b[0;31m         \u001b[0;32mreturn\u001b[0m \u001b[0mself\u001b[0m\u001b[0;34m.\u001b[0m\u001b[0m_get\u001b[0m\u001b[0;34m(\u001b[0m\u001b[0;34m\"users/%s/playlists/%s\"\u001b[0m \u001b[0;34m%\u001b[0m \u001b[0;34m(\u001b[0m\u001b[0muser\u001b[0m\u001b[0;34m,\u001b[0m \u001b[0mplid\u001b[0m\u001b[0;34m)\u001b[0m\u001b[0;34m,\u001b[0m \u001b[0mfields\u001b[0m\u001b[0;34m=\u001b[0m\u001b[0mfields\u001b[0m\u001b[0;34m)\u001b[0m\u001b[0;34m\u001b[0m\u001b[0m\n\u001b[0m\u001b[1;32m    379\u001b[0m \u001b[0;34m\u001b[0m\u001b[0m\n\u001b[1;32m    380\u001b[0m     def user_playlist_tracks(self, user, playlist_id=None, fields=None,\n",
      "\u001b[0;32m/Users/hechengwang/.virtualenvs/cv/lib/python2.7/site-packages/spotipy/client.pyc\u001b[0m in \u001b[0;36m_get\u001b[0;34m(self, url, args, payload, **kwargs)\u001b[0m\n\u001b[1;32m    144\u001b[0m         \u001b[0;32mwhile\u001b[0m \u001b[0mretries\u001b[0m \u001b[0;34m>\u001b[0m \u001b[0;36m0\u001b[0m\u001b[0;34m:\u001b[0m\u001b[0;34m\u001b[0m\u001b[0m\n\u001b[1;32m    145\u001b[0m             \u001b[0;32mtry\u001b[0m\u001b[0;34m:\u001b[0m\u001b[0;34m\u001b[0m\u001b[0m\n\u001b[0;32m--> 146\u001b[0;31m                 \u001b[0;32mreturn\u001b[0m \u001b[0mself\u001b[0m\u001b[0;34m.\u001b[0m\u001b[0m_internal_call\u001b[0m\u001b[0;34m(\u001b[0m\u001b[0;34m'GET'\u001b[0m\u001b[0;34m,\u001b[0m \u001b[0murl\u001b[0m\u001b[0;34m,\u001b[0m \u001b[0mpayload\u001b[0m\u001b[0;34m,\u001b[0m \u001b[0mkwargs\u001b[0m\u001b[0;34m)\u001b[0m\u001b[0;34m\u001b[0m\u001b[0m\n\u001b[0m\u001b[1;32m    147\u001b[0m             \u001b[0;32mexcept\u001b[0m \u001b[0mSpotifyException\u001b[0m \u001b[0;32mas\u001b[0m \u001b[0me\u001b[0m\u001b[0;34m:\u001b[0m\u001b[0;34m\u001b[0m\u001b[0m\n\u001b[1;32m    148\u001b[0m                 \u001b[0mretries\u001b[0m \u001b[0;34m-=\u001b[0m \u001b[0;36m1\u001b[0m\u001b[0;34m\u001b[0m\u001b[0m\n",
      "\u001b[0;32m/Users/hechengwang/.virtualenvs/cv/lib/python2.7/site-packages/spotipy/client.pyc\u001b[0m in \u001b[0;36m_internal_call\u001b[0;34m(self, method, url, payload, params)\u001b[0m\n\u001b[1;32m    122\u001b[0m                 raise SpotifyException(r.status_code,\n\u001b[1;32m    123\u001b[0m                     \u001b[0;34m-\u001b[0m\u001b[0;36m1\u001b[0m\u001b[0;34m,\u001b[0m \u001b[0;34m'%s:\\n %s'\u001b[0m \u001b[0;34m%\u001b[0m \u001b[0;34m(\u001b[0m\u001b[0mr\u001b[0m\u001b[0;34m.\u001b[0m\u001b[0murl\u001b[0m\u001b[0;34m,\u001b[0m \u001b[0mr\u001b[0m\u001b[0;34m.\u001b[0m\u001b[0mjson\u001b[0m\u001b[0;34m(\u001b[0m\u001b[0;34m)\u001b[0m\u001b[0;34m[\u001b[0m\u001b[0;34m'error'\u001b[0m\u001b[0;34m]\u001b[0m\u001b[0;34m[\u001b[0m\u001b[0;34m'message'\u001b[0m\u001b[0;34m]\u001b[0m\u001b[0;34m)\u001b[0m\u001b[0;34m,\u001b[0m\u001b[0;34m\u001b[0m\u001b[0m\n\u001b[0;32m--> 124\u001b[0;31m                     headers=r.headers)\n\u001b[0m\u001b[1;32m    125\u001b[0m             \u001b[0;32melse\u001b[0m\u001b[0;34m:\u001b[0m\u001b[0;34m\u001b[0m\u001b[0m\n\u001b[1;32m    126\u001b[0m                 raise SpotifyException(r.status_code,\n",
      "\u001b[0;31mSpotifyException\u001b[0m: http status: 401, code:-1 - https://api.spotify.com/v1/users/janice__nam/playlists/5eYX1Fv558PEeCpVxq5PyT:\n This request requires authentication."
     ]
    }
   ],
   "source": [
    "spotify.user_playlist(user = 'janice__nam', playlist_id = '5eYX1Fv558PEeCpVxq5PyT')"
   ]
  },
  {
   "cell_type": "code",
   "execution_count": null,
   "metadata": {
    "collapsed": true
   },
   "outputs": [],
   "source": []
  }
 ],
 "metadata": {
  "kernelspec": {
   "display_name": "Python 2",
   "language": "python",
   "name": "python2"
  },
  "language_info": {
   "codemirror_mode": {
    "name": "ipython",
    "version": 2
   },
   "file_extension": ".py",
   "mimetype": "text/x-python",
   "name": "python",
   "nbconvert_exporter": "python",
   "pygments_lexer": "ipython2",
   "version": "2.7.12"
  }
 },
 "nbformat": 4,
 "nbformat_minor": 1
}
