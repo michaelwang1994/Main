{
 "cells": [
  {
   "cell_type": "code",
   "execution_count": 2,
   "metadata": {
    "collapsed": true
   },
   "outputs": [],
   "source": [
    "import tensorflow as tf\n",
    "import pandas as pd\n",
    "import numpy as np\n",
    "from matplotlib import pyplot as plt\n",
    "from matplotlib import cm\n",
    "import seaborn as sns\n",
    "%matplotlib inline"
   ]
  },
  {
   "cell_type": "code",
   "execution_count": 3,
   "metadata": {},
   "outputs": [],
   "source": [
    "# settings\n",
    "LEARNING_RATE = 1e-4\n",
    "\n",
    "# set to 20k on local environment to get .99 accuracy\n",
    "TRAINING_ITERATIONS = 2500\n",
    "\n",
    "DROPOUT = 0.5\n",
    "BATCH_SIZE = 50\n",
    "\n",
    "# set to 0 to train on all available data\n",
    "VALIDATION_SIZE = 0\n",
    "\n",
    "#image number to output\n",
    "IMAGE_TO_DISPLAY = 10"
   ]
  },
  {
   "cell_type": "code",
   "execution_count": 4,
   "metadata": {},
   "outputs": [
    {
     "name": "stdout",
     "output_type": "stream",
     "text": [
      "data(42000, 785)\n<bound method DataFrame.head of        label  pixel0  pixel1  pixel2  pixel3  pixel4  pixel5  pixel6  pixel7  \\\n0          1       0       0       0       0       0       0       0       0   \n1          0       0       0       0       0       0       0       0       0   \n2          1       0       0       0       0       0       0       0       0   \n3          4       0       0       0       0       0       0       0       0   \n4          0       0       0       0       0       0       0       0       0   \n5          0       0       0       0       0       0       0       0       0   \n6          7       0       0       0       0       0       0       0       0   \n7          3       0       0       0       0       0       0       0       0   \n8          5       0       0       0       0       0       0       0       0   \n9          3       0       0       0       0       0       0       0       0   \n10         8       0       0       0       0       0       0       0       0   \n11         9       0       0       0       0       0       0       0       0   \n12         1       0       0       0       0       0       0       0       0   \n13         3       0       0       0       0       0       0       0       0   \n14         3       0       0       0       0       0       0       0       0   \n15         1       0       0       0       0       0       0       0       0   \n16         2       0       0       0       0       0       0       0       0   \n17         0       0       0       0       0       0       0       0       0   \n18         7       0       0       0       0       0       0       0       0   \n19         5       0       0       0       0       0       0       0       0   \n20         8       0       0       0       0       0       0       0       0   \n21         6       0       0       0       0       0       0       0       0   \n22         2       0       0       0       0       0       0       0       0   \n23         0       0       0       0       0       0       0       0       0   \n24         2       0       0       0       0       0       0       0       0   \n25         3       0       0       0       0       0       0       0       0   \n26         6       0       0       0       0       0       0       0       0   \n27         9       0       0       0       0       0       0       0       0   \n28         9       0       0       0       0       0       0       0       0   \n29         7       0       0       0       0       0       0       0       0   \n...      ...     ...     ...     ...     ...     ...     ...     ...     ...   \n41970      2       0       0       0       0       0       0       0       0   \n41971      3       0       0       0       0       0       0       0       0   \n41972      4       0       0       0       0       0       0       0       0   \n41973      4       0       0       0       0       0       0       0       0   \n41974      3       0       0       0       0       0       0       0       0   \n41975      9       0       0       0       0       0       0       0       0   \n41976      2       0       0       0       0       0       0       0       0   \n41977      4       0       0       0       0       0       0       0       0   \n41978      4       0       0       0       0       0       0       0       0   \n41979      4       0       0       0       0       0       0       0       0   \n41980      7       0       0       0       0       0       0       0       0   \n41981      2       0       0       0       0       0       0       0       0   \n41982      8       0       0       0       0       0       0       0       0   \n41983      7       0       0       0       0       0       0       0       0   \n41984      3       0       0       0       0       0       0       0       0   \n41985      3       0       0       0       0       0       0       0       0   \n41986      0       0       0       0       0       0       0       0       0   \n41987      5       0       0       0       0       0       0       0       0   \n41988      0       0       0       0       0       0       0       0       0   \n41989      5       0       0       0       0       0       0       0       0   \n41990      3       0       0       0       0       0       0       0       0   \n41991      1       0       0       0       0       0       0       0       0   \n41992      9       0       0       0       0       0       0       0       0   \n41993      6       0       0       0       0       0       0       0       0   \n41994      4       0       0       0       0       0       0       0       0   \n41995      0       0       0       0       0       0       0       0       0   \n41996      1       0       0       0       0       0       0       0       0   \n41997      7       0       0       0       0       0       0       0       0   \n41998      6       0       0       0       0       0       0       0       0   \n41999      9       0       0       0       0       0       0       0       0   \n\n       pixel8    ...     pixel774  pixel775  pixel776  pixel777  pixel778  \\\n0           0    ...            0         0         0         0         0   \n1           0    ...            0         0         0         0         0   \n2           0    ...            0         0         0         0         0   \n3           0    ...            0         0         0         0         0   \n4           0    ...            0         0         0         0         0   \n5           0    ...            0         0         0         0         0   \n6           0    ...            0         0         0         0         0   \n7           0    ...            0         0         0         0         0   \n8           0    ...            0         0         0         0         0   \n9           0    ...            0         0         0         0         0   \n10          0    ...            0         0         0         0         0   \n11          0    ...            0         0         0         0         0   \n12          0    ...            0         0         0         0         0   \n13          0    ...            0         0         0         0         0   \n14          0    ...            0         0         0         0         0   \n15          0    ...            0         0         0         0         0   \n16          0    ...            0         0         0         0         0   \n17          0    ...            0         0         0         0         0   \n18          0    ...            0         0         0         0         0   \n19          0    ...            0         0         0         0         0   \n20          0    ...            0         0         0         0         0   \n21          0    ...            0         0         0         0         0   \n22          0    ...            0         0         0         0         0   \n23          0    ...            0         0         0         0         0   \n24          0    ...            0         0         0         0         0   \n25          0    ...            0         0         0         0         0   \n26          0    ...            0         0         0         0         0   \n27          0    ...            0         0         0         0         0   \n28          0    ...            0         0         0         0         0   \n29          0    ...            0         0         0         0         0   \n...       ...    ...          ...       ...       ...       ...       ...   \n41970       0    ...            0         0         0         0         0   \n41971       0    ...            0         0         0         0         0   \n41972       0    ...            0         0         0         0         0   \n41973       0    ...            0         0         0         0         0   \n41974       0    ...            0         0         0         0         0   \n41975       0    ...            0         0         0         0         0   \n41976       0    ...            0         0         0         0         0   \n41977       0    ...            0         0         0         0         0   \n41978       0    ...            0         0         0         0         0   \n41979       0    ...            0         0         0         0         0   \n41980       0    ...           27       253       110         0         0   \n41981       0    ...            0         0         0         0         0   \n41982       0    ...            0         0         0         0         0   \n41983       0    ...            0         0         0         0         0   \n41984       0    ...            0         0         0         0         0   \n41985       0    ...            0         0         0         0         0   \n41986       0    ...            0         0         0         0         0   \n41987       0    ...            0         0         0         0         0   \n41988       0    ...            0         0         0         0         0   \n41989       0    ...            0         0         0         0         0   \n41990       0    ...            0         0         0         0         0   \n41991       0    ...            0         0         0         0         0   \n41992       0    ...            0         0         0         0         0   \n41993       0    ...            0         0         0         0         0   \n41994       0    ...            0         0         0         0         0   \n41995       0    ...            0         0         0         0         0   \n41996       0    ...            0         0         0         0         0   \n41997       0    ...            0         0         0         0         0   \n41998       0    ...            0         0         0         0         0   \n41999       0    ...            0         0         0         0         0   \n\n       pixel779  pixel780  pixel781  pixel782  pixel783  \n0             0         0         0         0         0  \n1             0         0         0         0         0  \n2             0         0         0         0         0  \n3             0         0         0         0         0  \n4             0         0         0         0         0  \n5             0         0         0         0         0  \n6             0         0         0         0         0  \n7             0         0         0         0         0  \n8             0         0         0         0         0  \n9             0         0         0         0         0  \n10            0         0         0         0         0  \n11            0         0         0         0         0  \n12            0         0         0         0         0  \n13            0         0         0         0         0  \n14            0         0         0         0         0  \n15            0         0         0         0         0  \n16            0         0         0         0         0  \n17            0         0         0         0         0  \n18            0         0         0         0         0  \n19            0         0         0         0         0  \n20            0         0         0         0         0  \n21            0         0         0         0         0  \n22            0         0         0         0         0  \n23            0         0         0         0         0  \n24            0         0         0         0         0  \n25            0         0         0         0         0  \n26            0         0         0         0         0  \n27            0         0         0         0         0  \n28            0         0         0         0         0  \n29            0         0         0         0         0  \n...         ...       ...       ...       ...       ...  \n41970         0         0         0         0         0  \n41971         0         0         0         0         0  \n41972         0         0         0         0         0  \n41973         0         0         0         0         0  \n41974         0         0         0         0         0  \n41975         0         0         0         0         0  \n41976         0         0         0         0         0  \n41977         0         0         0         0         0  \n41978         0         0         0         0         0  \n41979         0         0         0         0         0  \n41980         0         0         0         0         0  \n41981         0         0         0         0         0  \n41982         0         0         0         0         0  \n41983         0         0         0         0         0  \n41984         0         0         0         0         0  \n41985         0         0         0         0         0  \n41986         0         0         0         0         0  \n41987         0         0         0         0         0  \n41988         0         0         0         0         0  \n41989         0         0         0         0         0  \n41990         0         0         0         0         0  \n41991         0         0         0         0         0  \n41992         0         0         0         0         0  \n41993         0         0         0         0         0  \n41994         0         0         0         0         0  \n41995         0         0         0         0         0  \n41996         0         0         0         0         0  \n41997         0         0         0         0         0  \n41998         0         0         0         0         0  \n41999         0         0         0         0         0  \n\n[42000 rows x 785 columns]>\n"
     ]
    }
   ],
   "source": [
    "data = pd.read_csv('/Users/hechengwang/GitHub/NN/train.csv')\n",
    "\n",
    "print 'data({0[0]}, {0[1]})'.format(data.shape)\n",
    "print data.head"
   ]
  },
  {
   "cell_type": "code",
   "execution_count": 5,
   "metadata": {},
   "outputs": [
    {
     "name": "stdout",
     "output_type": "stream",
     "text": [
      "images (42000, 784)\n"
     ]
    }
   ],
   "source": [
    "images = data.iloc[:, 1:].values\n",
    "images = images.astype(np.float)\n",
    "\n",
    "# convert images from [0:255] to [0.0:1.0]\n",
    "images = np.multiply(images, 1.0 / 255.0)\n",
    "\n",
    "print 'images ({0[0]}, {0[1]})'.format(images.shape)"
   ]
  },
  {
   "cell_type": "code",
   "execution_count": 6,
   "metadata": {},
   "outputs": [
    {
     "name": "stdout",
     "output_type": "stream",
     "text": [
      "image_size => 784\nimage_width => 28 \nimage_height => 28\n"
     ]
    }
   ],
   "source": [
    "image_size = images.shape[1]\n",
    "print 'image_size => %s' % (image_size)\n",
    "\n",
    "# in this case all images are square\n",
    "image_width = image_height = np.ceil(np.sqrt(image_size)).astype(np.uint8)\n",
    "\n",
    "print 'image_width => %s \\nimage_height => %s' % (image_width, image_height)"
   ]
  },
  {
   "cell_type": "code",
   "execution_count": 7,
   "metadata": {},
   "outputs": [
    {
     "data": {
      "image/png": "[encoded data removed]",
      "text/plain": [
       "<matplotlib.figure.Figure at 0x1142d2d90>"
      ]
     },
     "metadata": {},
     "output_type": "display_data"
    }
   ],
   "source": [
    "# display image\n",
    "def display(img):\n",
    "    \n",
    "    # 784 = 28x28\n",
    "    one_image = img.reshape(image_width, image_height)\n",
    "    \n",
    "    plt.axis('off')\n",
    "    plt.imshow(one_image, cmap = cm.binary)\n",
    "\n",
    "# output image\n",
    "display(images[IMAGE_TO_DISPLAY])"
   ]
  },
  {
   "cell_type": "code",
   "execution_count": 8,
   "metadata": {},
   "outputs": [
    {
     "name": "stdout",
     "output_type": "stream",
     "text": [
      "labels_flat 42000\nlabels_flat[10] => 8\n"
     ]
    }
   ],
   "source": [
    "labels_flat = data[[0]].values.ravel()\n",
    "\n",
    "print 'labels_flat %s' % (len(labels_flat))\n",
    "print 'labels_flat[%s] => %s' % (IMAGE_TO_DISPLAY, labels_flat[IMAGE_TO_DISPLAY])"
   ]
  },
  {
   "cell_type": "code",
   "execution_count": 9,
   "metadata": {},
   "outputs": [
    {
     "name": "stdout",
     "output_type": "stream",
     "text": [
      "labels_count => 10\n"
     ]
    }
   ],
   "source": [
    "labels_count = np.unique(labels_flat).shape[0]\n",
    "\n",
    "print 'labels_count => %s' % (labels_count)"
   ]
  },
  {
   "cell_type": "code",
   "execution_count": 10,
   "metadata": {},
   "outputs": [],
   "source": [
    "# convert class labels from scalars to one-hot vectors\n",
    "\n",
    "def dense_to_one_hot(labels_dense, num_classes):\n",
    "    num_labels = labels_dense.shape[0]\n",
    "    index_offset = np.arange(num_labels) * num_classes\n",
    "    labels_one_hot = np.zeros((num_labels, num_classes))\n",
    "    labels_one_hot.flat[index_offset + labels_dense.ravel()] = 1\n",
    "    return labels_one_hot"
   ]
  },
  {
   "cell_type": "code",
   "execution_count": 11,
   "metadata": {},
   "outputs": [
    {
     "name": "stdout",
     "output_type": "stream",
     "text": [
      "labels(42000, 10)\nlabels[10] => [0 0 0 0 0 0 0 0 1 0]\n"
     ]
    }
   ],
   "source": [
    "labels = dense_to_one_hot(labels_flat, labels_count)\n",
    "labels = labels.astype(np.uint8)\n",
    "\n",
    "print 'labels({0[0]}, {0[1]})'.format(labels.shape)\n",
    "print 'labels[{0}] => {1}'.format(IMAGE_TO_DISPLAY, labels[IMAGE_TO_DISPLAY])"
   ]
  },
  {
   "cell_type": "code",
   "execution_count": 12,
   "metadata": {},
   "outputs": [
    {
     "name": "stdout",
     "output_type": "stream",
     "text": [
      "train_images(42000,784)\nvalidation_images(0,784)\n"
     ]
    }
   ],
   "source": [
    "validation_images = images[:VALIDATION_SIZE]\n",
    "validation_labels = labels[:VALIDATION_SIZE]\n",
    "\n",
    "train_images = images[VALIDATION_SIZE:]\n",
    "train_labels = labels[VALIDATION_SIZE:]\n",
    "\n",
    "print('train_images({0[0]},{0[1]})'.format(train_images.shape))\n",
    "print('validation_images({0[0]},{0[1]})'.format(validation_images.shape))"
   ]
  },
  {
   "cell_type": "markdown",
   "metadata": {},
   "source": [
    "# TensorFlow\n",
    "\n",
    "We are using [ReLU](https://en.wikipedia.org/wiki/Rectifier_(neural_networks) neurones (f(x) = max(0, x))"
   ]
  },
  {
   "cell_type": "code",
   "execution_count": 13,
   "metadata": {},
   "outputs": [],
   "source": [
    "def weight_variable(shape):\n",
    "    initial = tf.truncated_normal(shape, stddev = 0.1)\n",
    "    return tf.Variable(initial)\n",
    "\n",
    "def bias_variable(shape):\n",
    "    initial = tf.constant(0.1, shape = shape)\n",
    "    return tf.Variable(initial)"
   ]
  },
  {
   "cell_type": "code",
   "execution_count": 21,
   "metadata": {},
   "outputs": [],
   "source": [
    "# convolution\n",
    "def conv2d(x, W):\n",
    "    return tf.nn.conv2d(x, W, strides = [1, 1, 1, 1], padding = 'SAME')"
   ]
  },
  {
   "cell_type": "markdown",
   "metadata": {},
   "source": [
    "Read all about convolutions [here](https://en.wikipedia.org/wiki/Convolutional_neural_network#Convolutional_layer)."
   ]
  },
  {
   "cell_type": "code",
   "execution_count": 23,
   "metadata": {},
   "outputs": [],
   "source": [
    "def max_pool_2x2(x):\n",
    "    return tf.nn.max_pool(x, ksize=[1, 2, 2, 1], strides=[1, 2, 2, 1], padding='SAME')"
   ]
  },
  {
   "cell_type": "markdown",
   "metadata": {},
   "source": [
    "Read all about pooling [here](https://en.wikipedia.org/wiki/Convolutional_neural_network#Pooling_layer)"
   ]
  },
  {
   "cell_type": "code",
   "execution_count": 18,
   "metadata": {},
   "outputs": [],
   "source": [
    "#images\n",
    "x = tf.placeholder('float', shape = [None, image_size])\n",
    "\n",
    "#labels\n",
    "y_ = tf.placeholder('float', shape = [None, labels_count])"
   ]
  },
  {
   "cell_type": "markdown",
   "metadata": {},
   "source": [
    "1st Convolutional layer will be size [5, 5] and have 32 features (picked arbitrarily) with 1 input channel (grayscale photos)\n",
    "1st Pooling layer after convolution will reduce the image from 28x28 to 14x14"
   ]
  },
  {
   "cell_type": "code",
   "execution_count": 24,
   "metadata": {},
   "outputs": [
    {
     "data": {
      "text/plain": [
       "<tf.Tensor 'Reshape_5:0' shape=(?, 112, 224) dtype=float32>"
      ]
     },
     "execution_count": 24,
     "metadata": {},
     "output_type": "execute_result"
    }
   ],
   "source": [
    "W_conv1 = weight_variable([5, 5, 1, 32])\n",
    "b_conv1 = bias_variable([32])\n",
    "\n",
    "# (42,000 images of size 784 --> 42,000 images of size (28, 28, 1)\n",
    "image = tf.reshape(x, [-1, image_width, image_height, 1])\n",
    "\n",
    "# Extract 32 features from 42,000 size 28x28 images\n",
    "h_conv1 = tf.nn.relu(conv2d(image, W_conv1) + b_conv1)\n",
    "h_pool1 = max_pool_2x2(h_conv1)\n",
    "\n",
    "layer1 = tf.reshape(h_conv1, (-1, image_height, image_width, 4, 8))\n",
    "layer1 = tf.transpose(layer1, (0, 3, 1, 4, 2))\n",
    "layer1 = tf.reshape(layer1, (-1, image_height*4, image_width*8))"
   ]
  },
  {
   "cell_type": "code",
   "execution_count": 29,
   "metadata": {},
   "outputs": [],
   "source": [
    "# second convolutional layer\n",
    "# note there are 32 input channels; there were 32 features obtained from the first convolutional layer\n",
    "# again, 64 features are chosen arbitrarily\n",
    "# max pooling on a 14x14 image will result in a 7x7 image\n",
    "\n",
    "W_conv2 = weight_variable([5, 5, 32, 64])\n",
    "b_conv2 = bias_variable([64])\n",
    "\n",
    "h_conv2 = tf.nn.relu(conv2d(h_pool1, W_conv2) + b_conv2)\n",
    "#print (h_conv2.get_shape()) # => (40000, 14,14, 64)\n",
    "h_pool2 = max_pool_2x2(h_conv2)\n",
    "#print (h_pool2.get_shape()) # => (40000, 7, 7, 64)\n",
    "\n",
    "# Prepare for visualization\n",
    "# display 64 fetures in 4 by 16 grid\n",
    "layer2 = tf.reshape(h_conv2, (-1, 14, 14, 4, 16))  \n",
    "\n",
    "# reorder so the channels are in the first dimension, x and y follow.\n",
    "layer2 = tf.transpose(layer2, (0, 3, 1, 4, 2))\n",
    "\n",
    "layer2 = tf.reshape(layer2, (-1, 14*4, 14*16))"
   ]
  },
  {
   "cell_type": "code",
   "execution_count": 30,
   "metadata": {},
   "outputs": [],
   "source": [
    "#fully connected layer\n",
    "#1024 features is an arbitrary number of neurons\n",
    "\n",
    "W_fc1 = weight_variable([7 * 7 * 64, 1024])\n",
    "b_fc1 = bias_variable([1024])\n",
    "\n",
    "# (42000, 7, 7, 64) => (42000, 3136)\n",
    "h_pool2_flat = tf.reshape(h_pool2, [-1, 7 * 7 * 64])\n",
    "h_fc1 = tf.nn.relu(tf.matmul(h_pool2_flat, W_fc1) + b_fc1)\n",
    "# will result in 42,000 images and 1,024 features for each image"
   ]
  },
  {
   "cell_type": "code",
   "execution_count": 31,
   "metadata": {},
   "outputs": [],
   "source": [
    "keep_prob = tf.placeholder('float')\n",
    "h_fc1_drop = tf.nn.dropout(h_fc1, keep_prob)"
   ]
  },
  {
   "cell_type": "markdown",
   "metadata": {},
   "source": [
    "Go [here](https://en.wikipedia.org/wiki/Convolutional_neural_network#Dropout) to read all about dropout"
   ]
  },
  {
   "cell_type": "markdown",
   "metadata": {},
   "source": [
    "Using a [softmax regression](https://en.wikipedia.org/wiki/Softmax_function) we obtain the predicted label based on the activation of the 1024 layers"
   ]
  },
  {
   "cell_type": "code",
   "execution_count": 32,
   "metadata": {},
   "outputs": [],
   "source": [
    "W_fc2 = weight_variable([1024, labels_count])\n",
    "b_fc2 = bias_variable([labels_count])\n",
    "\n",
    "y = tf.nn.softmax(tf.matmul(h_fc1_drop, W_fc2) + b_fc2)"
   ]
  },
  {
   "cell_type": "markdown",
   "metadata": {},
   "source": [
    "We use [cross entropy](https://en.wikipedia.org/wiki/Cross_entropy) to calculate prediction score and the [ADAM optimizer](http://arxiv.org/pdf/1412.6980v8.pdf) to reduce it."
   ]
  },
  {
   "cell_type": "code",
   "execution_count": 33,
   "metadata": {},
   "outputs": [],
   "source": [
    "cross_entropy = -tf.reduce_sum(y_*tf.log(y))\n",
    "\n",
    "train_step = tf.train.AdamOptimizer(LEARNING_RATE).minimize(cross_entropy)\n",
    "\n",
    "correct_prediction = tf.equal(tf.argmax(y, 1), tf.argmax(y_, 1))\n",
    "\n",
    "accuracy = tf.reduce_mean(tf.cast(correct_prediction, 'float'))"
   ]
  },
  {
   "cell_type": "code",
   "execution_count": 35,
   "metadata": {},
   "outputs": [],
   "source": [
    "#transforms prediction probabilities to label values\n",
    "predict = tf.argmax(y, 1)"
   ]
  },
  {
   "cell_type": "markdown",
   "metadata": {},
   "source": [
    "# Train, validate and predict"
   ]
  },
  {
   "cell_type": "code",
   "execution_count": 36,
   "metadata": {},
   "outputs": [],
   "source": [
    "epochs_completed = 0\n",
    "index_in_epoch = 0\n",
    "num_examples = train_images.shape[0]\n",
    "\n",
    "# serve data by batches\n",
    "def next_batch(batch_size):\n",
    "    \n",
    "    global train_images\n",
    "    global train_labels\n",
    "    global index_in_epoch\n",
    "    global epochs_completed\n",
    "    \n",
    "    start = index_in_epoch\n",
    "    index_in_epoch += batch_size\n",
    "    \n",
    "    # when all trainig data have been already used, it is reorder randomly    \n",
    "    if index_in_epoch > num_examples:\n",
    "        # finished epoch\n",
    "        epochs_completed += 1\n",
    "        # shuffle the data\n",
    "        perm = np.arange(num_examples)\n",
    "        np.random.shuffle(perm)\n",
    "        train_images = train_images[perm]\n",
    "        train_labels = train_labels[perm]\n",
    "        # start next epoch\n",
    "        start = 0\n",
    "        index_in_epoch = batch_size\n",
    "        assert batch_size <= num_examples\n",
    "    end = index_in_epoch\n",
    "    return train_images[start:end], train_labels[start:end]"
   ]
  },
  {
   "cell_type": "code",
   "execution_count": 37,
   "metadata": {},
   "outputs": [],
   "source": [
    "# start TensorFlow session\n",
    "init = tf.initialize_all_variables()\n",
    "sess = tf.InteractiveSession()\n",
    "\n",
    "sess.run(init)"
   ]
  },
  {
   "cell_type": "code",
   "execution_count": null,
   "metadata": {},
   "outputs": [],
   "source": [
    "# visualisation variables\n",
    "train_accuracies = []\n",
    "validation_accuracies = []\n",
    "x_range = []\n",
    "\n",
    "display_step=1\n",
    "\n",
    "for i in range(TRAINING_ITERATIONS):\n",
    "\n",
    "    #get new batch\n",
    "    batch_xs, batch_ys = next_batch(BATCH_SIZE)        \n",
    "\n",
    "    # check progress on every 1st,2nd,...,10th,20th,...,100th... step\n",
    "    if i%display_step == 0 or (i+1) == TRAINING_ITERATIONS:\n",
    "        \n",
    "        train_accuracy = accuracy.eval(feed_dict={x:batch_xs, \n",
    "                                                  y_: batch_ys, \n",
    "                                                  keep_prob: 1.0})       \n",
    "        if(VALIDATION_SIZE):\n",
    "            validation_accuracy = accuracy.eval(feed_dict={ x: validation_images[0:BATCH_SIZE], \n",
    "                                                            y_: validation_labels[0:BATCH_SIZE], \n",
    "                                                            keep_prob: 1.0})                                  \n",
    "            print('training_accuracy / validation_accuracy => %.2f / %.2f for step %d'%(train_accuracy, validation_accuracy, i))\n",
    "            \n",
    "            validation_accuracies.append(validation_accuracy)\n",
    "            \n",
    "        else:\n",
    "             print('training_accuracy => %.4f for step %d'%(train_accuracy, i))\n",
    "        train_accuracies.append(train_accuracy)\n",
    "        x_range.append(i)\n",
    "        \n",
    "        # increase display_step\n",
    "        if i%(display_step*10) == 0 and i:\n",
    "            display_step *= 10\n",
    "    # train on batch\n",
    "    sess.run(train_step, feed_dict={x: batch_xs, y_: batch_ys, keep_prob: DROPOUT})"
   ]
  },
  {
   "cell_type": "code",
   "execution_count": null,
   "metadata": {},
   "outputs": [],
   "source": [
    "# check final accuracy on validation set  \n",
    "if(VALIDATION_SIZE):\n",
    "    validation_accuracy = accuracy.eval(feed_dict={x: validation_images, \n",
    "                                                   y_: validation_labels, \n",
    "                                                   keep_prob: 1.0})\n",
    "    print('validation_accuracy => %.4f'%validation_accuracy)\n",
    "    plt.plot(x_range, train_accuracies,'-b', label='Training')\n",
    "    plt.plot(x_range, validation_accuracies,'-g', label='Validation')\n",
    "    plt.legend(loc='lower right', frameon=False)\n",
    "    plt.ylim(ymax = 1.1, ymin = 0.7)\n",
    "    plt.ylabel('accuracy')\n",
    "    plt.xlabel('step')\n",
    "    plt.show()"
   ]
  },
  {
   "cell_type": "code",
   "execution_count": null,
   "metadata": {},
   "outputs": [],
   "source": [
    "# read test data from CSV file \n",
    "test_images = pd.read_csv('../input/test.csv').values\n",
    "test_images = test_images.astype(np.float)\n",
    "\n",
    "# convert from [0:255] => [0.0:1.0]\n",
    "test_images = np.multiply(test_images, 1.0 / 255.0)\n",
    "\n",
    "print('test_images({0[0]},{0[1]})'.format(test_images.shape))\n",
    "\n",
    "\n",
    "# predict test set\n",
    "#predicted_lables = predict.eval(feed_dict={x: test_images, keep_prob: 1.0})\n",
    "\n",
    "# using batches is more resource efficient\n",
    "predicted_lables = np.zeros(test_images.shape[0])\n",
    "for i in range(0,test_images.shape[0]//BATCH_SIZE):\n",
    "    predicted_lables[i*BATCH_SIZE : (i+1)*BATCH_SIZE] = predict.eval(feed_dict={x: test_images[i*BATCH_SIZE : (i+1)*BATCH_SIZE], \n",
    "                                                                                keep_prob: 1.0})\n",
    "\n",
    "\n",
    "print('predicted_lables({0})'.format(len(predicted_lables)))\n",
    "\n",
    "# output test image and prediction\n",
    "display(test_images[IMAGE_TO_DISPLAY])\n",
    "print ('predicted_lables[{0}] => {1}'.format(IMAGE_TO_DISPLAY,predicted_lables[IMAGE_TO_DISPLAY]))\n",
    "\n",
    "# save results\n",
    "np.savetxt('submission_softmax.csv', \n",
    "           np.c_[range(1,len(test_images)+1),predicted_lables], \n",
    "           delimiter=',', \n",
    "           header = 'ImageId,Label', \n",
    "           comments = '', \n",
    "           fmt='%d')"
   ]
  },
  {
   "cell_type": "markdown",
   "metadata": {},
   "source": [
    ""
   ]
  },
  {
   "cell_type": "code",
   "execution_count": 27,
   "metadata": {},
   "outputs": [
    {
     "ename": "NameError",
     "evalue": "name 'keep_prob' is not defined",
     "traceback": [
      "\u001b[0;31m---------------------------------------------------------------------------\u001b[0m",
      "\u001b[0;31mNameError\u001b[0m                                 Traceback (most recent call last)",
      "\u001b[0;32m<ipython-input-27-f2fc371a98d3>\u001b[0m in \u001b[0;36m<module>\u001b[0;34m()\u001b[0m\n\u001b[0;32m----> 1\u001b[0;31m \u001b[0mlayer1_grid\u001b[0m \u001b[0;34m=\u001b[0m \u001b[0mlayer1\u001b[0m\u001b[0;34m.\u001b[0m\u001b[0meval\u001b[0m\u001b[0;34m(\u001b[0m\u001b[0mfeed_dict\u001b[0m\u001b[0;34m=\u001b[0m\u001b[0;34m{\u001b[0m\u001b[0mx\u001b[0m\u001b[0;34m:\u001b[0m \u001b[0mimages\u001b[0m\u001b[0;34m[\u001b[0m\u001b[0mIMAGE_TO_DISPLAY\u001b[0m\u001b[0;34m:\u001b[0m\u001b[0mIMAGE_TO_DISPLAY\u001b[0m\u001b[0;34m+\u001b[0m\u001b[0;36m1\u001b[0m\u001b[0;34m]\u001b[0m\u001b[0;34m,\u001b[0m \u001b[0mkeep_prob\u001b[0m\u001b[0;34m:\u001b[0m \u001b[0;36m1.0\u001b[0m\u001b[0;34m}\u001b[0m\u001b[0;34m)\u001b[0m\u001b[0;34m\u001b[0m\u001b[0m\n\u001b[0m\u001b[1;32m      2\u001b[0m \u001b[0mplt\u001b[0m\u001b[0;34m.\u001b[0m\u001b[0maxis\u001b[0m\u001b[0;34m(\u001b[0m\u001b[0;34m'off'\u001b[0m\u001b[0;34m)\u001b[0m\u001b[0;34m\u001b[0m\u001b[0m\n\u001b[1;32m      3\u001b[0m \u001b[0mplt\u001b[0m\u001b[0;34m.\u001b[0m\u001b[0mimshow\u001b[0m\u001b[0;34m(\u001b[0m\u001b[0mlayer1_grid\u001b[0m\u001b[0;34m[\u001b[0m\u001b[0;36m0\u001b[0m\u001b[0;34m]\u001b[0m\u001b[0;34m,\u001b[0m \u001b[0mcmap\u001b[0m\u001b[0;34m=\u001b[0m\u001b[0mcm\u001b[0m\u001b[0;34m.\u001b[0m\u001b[0mseismic\u001b[0m \u001b[0;34m)\u001b[0m\u001b[0;34m\u001b[0m\u001b[0m\n",
      "\u001b[0;31mNameError\u001b[0m: name 'keep_prob' is not defined"
     ],
     "output_type": "error"
    }
   ],
   "source": [
    "layer1_grid = layer1.eval(feed_dict={x: images[IMAGE_TO_DISPLAY:IMAGE_TO_DISPLAY+1], keep_prob: 1.0})\n",
    "plt.axis('off')\n",
    "plt.imshow(layer1_grid[0], cmap=cm.seismic )"
   ]
  },
  {
   "cell_type": "code",
   "execution_count": null,
   "metadata": {},
   "outputs": [],
   "source": [
    ""
   ]
  }
 ],
 "metadata": {
  "kernelspec": {
   "display_name": "Python 2",
   "language": "python",
   "name": "python2"
  },
  "language_info": {
   "codemirror_mode": {
    "name": "ipython",
    "version": 2.0
   },
   "file_extension": ".py",
   "mimetype": "text/x-python",
   "name": "python",
   "nbconvert_exporter": "python",
   "pygments_lexer": "ipython2",
   "version": "2.7.6"
  }
 },
 "nbformat": 4,
 "nbformat_minor": 0
}