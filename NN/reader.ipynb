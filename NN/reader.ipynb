{
 "cells": [
  {
   "cell_type": "code",
   "execution_count": 1,
   "metadata": {
    "collapsed": true
   },
   "outputs": [
    {
     "name": "stderr",
     "output_type": "stream",
     "text": [
      "/Users/hechengwang/anaconda/lib/python2.7/site-packages/matplotlib/font_manager.py:273: UserWarning: Matplotlib is building the font cache using fc-list. This may take a moment.\n  warnings.warn('Matplotlib is building the font cache using fc-list. This may take a moment.')\n"
     ]
    }
   ],
   "source": [
    "import pandas as pd\n",
    "import numpy as np\n",
    "import tensorflow as tf\n",
    "from PIL import Image\n",
    "import matplotlib.pyplot as plt\n",
    "from matplotlib import cm\n",
    "%matplotlib inline"
   ]
  },
  {
   "cell_type": "code",
   "execution_count": 2,
   "metadata": {},
   "outputs": [],
   "source": [
    "def img_bw_data(imgpath):\n",
    "    # type: (object) -> object\n",
    "    img = Image.open(imgpath)\n",
    "    img_bw = img.convert('L')\n",
    "    pixels_array = np.where(np.asarray(img_bw) > 255/2, 0, 1)\n",
    "    return pixels_array"
   ]
  },
  {
   "cell_type": "code",
   "execution_count": 3,
   "metadata": {},
   "outputs": [],
   "source": [
    "imgpath = '/Users/hechengwang/Downloads/Files/0a0a5dc8-b613-47cd-a2ca-a4d001159541.png'\n",
    "datapath = '/Users/hechengwang/Downloads/Files/listOfFields.csv'"
   ]
  },
  {
   "cell_type": "code",
   "execution_count": 4,
   "metadata": {},
   "outputs": [],
   "source": [
    "img0 = img_bw_data(imgpath)"
   ]
  },
  {
   "cell_type": "code",
   "execution_count": 5,
   "metadata": {},
   "outputs": [
    {
     "data": {
      "text/plain": [
       "array([[0, 0, 0, ..., 0, 0, 0],\n       [0, 0, 0, ..., 0, 0, 0],\n       [0, 0, 0, ..., 0, 0, 0],\n       ..., \n       [0, 0, 0, ..., 0, 0, 0],\n       [0, 0, 0, ..., 0, 0, 0],\n       [0, 0, 0, ..., 0, 0, 0]])"
      ]
     },
     "execution_count": 5,
     "metadata": {},
     "output_type": "execute_result"
    }
   ],
   "source": [
    "img0"
   ]
  },
  {
   "cell_type": "code",
   "execution_count": 6,
   "metadata": {},
   "outputs": [],
   "source": [
    "image_height, image_width = img0.shape"
   ]
  },
  {
   "cell_type": "code",
   "execution_count": 7,
   "metadata": {},
   "outputs": [
    {
     "data": {
      "image/png": "[encoded data removed]",
      "text/plain": [
       "<matplotlib.figure.Figure at 0x110b37c50>"
      ]
     },
     "metadata": {},
     "output_type": "display_data"
    }
   ],
   "source": [
    "# display image\n",
    "def display(img):\n",
    "    \n",
    "    plt.axis('off')\n",
    "    plt.imshow(img, cmap=cm.binary)\n",
    "\n",
    "# output image\n",
    "display(img0)"
   ]
  },
  {
   "cell_type": "code",
   "execution_count": 8,
   "metadata": {},
   "outputs": [],
   "source": [
    "data = pd.read_csv(datapath)"
   ]
  },
  {
   "cell_type": "code",
   "execution_count": 9,
   "metadata": {},
   "outputs": [
    {
     "data": {
      "text/html": [
       "<div>\n",
       "<table border=\"1\" class=\"dataframe\">\n",
       "  <thead>\n",
       "    <tr style=\"text-align: right;\">\n",
       "      <th></th>\n",
       "      <th>ImagePath</th>\n",
       "      <th>X</th>\n",
       "      <th>Y</th>\n",
       "      <th>W</th>\n",
       "      <th>H</th>\n",
       "      <th>PageNumber</th>\n",
       "    </tr>\n",
       "  </thead>\n",
       "  <tbody>\n",
       "    <tr>\n",
       "      <th>0</th>\n",
       "      <td>Files/1cb80003-7a64-48bf-9083-a32200ce6d09.png</td>\n",
       "      <td>1675</td>\n",
       "      <td>648</td>\n",
       "      <td>45</td>\n",
       "      <td>45</td>\n",
       "      <td>1</td>\n",
       "    </tr>\n",
       "    <tr>\n",
       "      <th>1</th>\n",
       "      <td>Files/1cb80003-7a64-48bf-9083-a32200ce6d09.png</td>\n",
       "      <td>1512</td>\n",
       "      <td>280</td>\n",
       "      <td>45</td>\n",
       "      <td>45</td>\n",
       "      <td>1</td>\n",
       "    </tr>\n",
       "    <tr>\n",
       "      <th>2</th>\n",
       "      <td>Files/1cb80003-7a64-48bf-9083-a32200ce6d09.png</td>\n",
       "      <td>1607</td>\n",
       "      <td>747</td>\n",
       "      <td>45</td>\n",
       "      <td>45</td>\n",
       "      <td>1</td>\n",
       "    </tr>\n",
       "    <tr>\n",
       "      <th>3</th>\n",
       "      <td>Files/1cb80003-7a64-48bf-9083-a32200ce6d09.png</td>\n",
       "      <td>1560</td>\n",
       "      <td>508</td>\n",
       "      <td>45</td>\n",
       "      <td>45</td>\n",
       "      <td>1</td>\n",
       "    </tr>\n",
       "    <tr>\n",
       "      <th>4</th>\n",
       "      <td>Files/1cb80003-7a64-48bf-9083-a32200ce6d09.png</td>\n",
       "      <td>1560</td>\n",
       "      <td>202</td>\n",
       "      <td>47</td>\n",
       "      <td>47</td>\n",
       "      <td>1</td>\n",
       "    </tr>\n",
       "  </tbody>\n",
       "</table>\n",
       "</div>"
      ],
      "text/plain": [
       "<div>\n",
       "<table border=\"1\" class=\"dataframe\">\n",
       "  <thead>\n",
       "    <tr style=\"text-align: right;\">\n",
       "      <th></th>\n",
       "      <th>ImagePath</th>\n",
       "      <th>X</th>\n",
       "      <th>Y</th>\n",
       "      <th>W</th>\n",
       "      <th>H</th>\n",
       "      <th>PageNumber</th>\n",
       "    </tr>\n",
       "  </thead>\n",
       "  <tbody>\n",
       "    <tr>\n",
       "      <th>0</th>\n",
       "      <td>Files/1cb80003-7a64-48bf-9083-a32200ce6d09.png</td>\n",
       "      <td>1675</td>\n",
       "      <td>648</td>\n",
       "      <td>45</td>\n",
       "      <td>45</td>\n",
       "      <td>1</td>\n",
       "    </tr>\n",
       "    <tr>\n",
       "      <th>1</th>\n",
       "      <td>Files/1cb80003-7a64-48bf-9083-a32200ce6d09.png</td>\n",
       "      <td>1512</td>\n",
       "      <td>280</td>\n",
       "      <td>45</td>\n",
       "      <td>45</td>\n",
       "      <td>1</td>\n",
       "    </tr>\n",
       "    <tr>\n",
       "      <th>2</th>\n",
       "      <td>Files/1cb80003-7a64-48bf-9083-a32200ce6d09.png</td>\n",
       "      <td>1607</td>\n",
       "      <td>747</td>\n",
       "      <td>45</td>\n",
       "      <td>45</td>\n",
       "      <td>1</td>\n",
       "    </tr>\n",
       "    <tr>\n",
       "      <th>3</th>\n",
       "      <td>Files/1cb80003-7a64-48bf-9083-a32200ce6d09.png</td>\n",
       "      <td>1560</td>\n",
       "      <td>508</td>\n",
       "      <td>45</td>\n",
       "      <td>45</td>\n",
       "      <td>1</td>\n",
       "    </tr>\n",
       "    <tr>\n",
       "      <th>4</th>\n",
       "      <td>Files/1cb80003-7a64-48bf-9083-a32200ce6d09.png</td>\n",
       "      <td>1560</td>\n",
       "      <td>202</td>\n",
       "      <td>47</td>\n",
       "      <td>47</td>\n",
       "      <td>1</td>\n",
       "    </tr>\n",
       "  </tbody>\n",
       "</table>\n",
       "</div>"
      ]
     },
     "execution_count": 9,
     "metadata": {},
     "output_type": "execute_result"
    }
   ],
   "source": [
    "data.head()"
   ]
  },
  {
   "cell_type": "code",
   "execution_count": 10,
   "metadata": {},
   "outputs": [],
   "source": [
    "data['full_imgpath'] = '/Users/hechengwang/Downloads/' + data['ImagePath']"
   ]
  },
  {
   "cell_type": "code",
   "execution_count": 18,
   "metadata": {},
   "outputs": [],
   "source": [
    "img_dict = {}\n",
    "\n",
    "for index, row in data[:200].iterrows():\n",
    "    filepath = row['full_imgpath'].split('/')[-1]\n",
    "    if not filepath in img_dict:\n",
    "        img = img_bw_data(row['full_imgpath'])\n",
    "        img_dict[filepath] = [img, np.zeros(img.shape)]\n",
    "        x, y, x1, y1 = row['X'], row['Y'], row['X'] + row['W'], row['Y'] + row['H']\n",
    "        img_dict[filepath][-1][y:y1, x:x1] = np.ones((y1 - y, x1 - x))\n",
    "    else:\n",
    "        x, y, x1, y1 = row['X'], row['Y'], row['X'] + row['W'], row['Y'] + row['H']\n",
    "        img_dict[filepath][-1][y:y1, x:x1] = np.ones((y1 - y, x1 - x))"
   ]
  },
  {
   "cell_type": "code",
   "execution_count": 22,
   "metadata": {},
   "outputs": [
    {
     "data": {
      "image/png": "[encoded data removed]",
      "text/plain": [
       "<matplotlib.figure.Figure at 0x11f7e0290>"
      ]
     },
     "metadata": {},
     "output_type": "display_data"
    }
   ],
   "source": [
    "display(img_dict['0d90c176-0009-4c1a-81d2-a33100225f33.png'][0])"
   ]
  },
  {
   "cell_type": "code",
   "execution_count": 23,
   "metadata": {},
   "outputs": [
    {
     "data": {
      "image/png": "[encoded data removed]",
      "text/plain": [
       "<matplotlib.figure.Figure at 0x11e051310>"
      ]
     },
     "metadata": {},
     "output_type": "display_data"
    }
   ],
   "source": [
    "display(img_dict['0d90c176-0009-4c1a-81d2-a33100225f33.png'][1])"
   ]
  },
  {
   "cell_type": "code",
   "execution_count": 21,
   "metadata": {},
   "outputs": [
    {
     "data": {
      "text/plain": [
       "{'0d90c176-0009-4c1a-81d2-a33100225f33.png': [array([[0, 0, 0, ..., 0, 0, 0],\n         [0, 0, 0, ..., 0, 0, 0],\n         [0, 0, 0, ..., 0, 0, 0],\n         ..., \n         [1, 1, 1, ..., 1, 1, 1],\n         [1, 1, 1, ..., 1, 1, 1],\n         [1, 1, 1, ..., 1, 1, 1]]), array([[ 0.,  0.,  0., ...,  0.,  0.,  0.],\n         [ 0.,  0.,  0., ...,  0.,  0.,  0.],\n         [ 0.,  0.,  0., ...,  0.,  0.,  0.],\n         ..., \n         [ 0.,  0.,  0., ...,  0.,  0.,  0.],\n         [ 0.,  0.,  0., ...,  0.,  0.,  0.],\n         [ 0.,  0.,  0., ...,  0.,  0.,  0.]])],\n '13b1cad9-e45a-4160-9649-a334013e9a65.png': [array([[0, 0, 0, ..., 0, 0, 0],\n         [0, 0, 0, ..., 0, 0, 0],\n         [0, 0, 0, ..., 0, 0, 0],\n         ..., \n         [0, 0, 0, ..., 0, 0, 0],\n         [0, 0, 0, ..., 0, 0, 0],\n         [0, 0, 0, ..., 0, 0, 0]]), array([[ 0.,  0.,  0., ...,  0.,  0.,  0.],\n         [ 0.,  0.,  0., ...,  0.,  0.,  0.],\n         [ 0.,  0.,  0., ...,  0.,  0.,  0.],\n         ..., \n         [ 0.,  0.,  0., ...,  0.,  0.,  0.],\n         [ 0.,  0.,  0., ...,  0.,  0.,  0.],\n         [ 0.,  0.,  0., ...,  0.,  0.,  0.]])],\n '1cb80003-7a64-48bf-9083-a32200ce6d09.png': [array([[0, 0, 0, ..., 0, 0, 0],\n         [0, 0, 0, ..., 0, 0, 0],\n         [0, 0, 0, ..., 0, 0, 0],\n         ..., \n         [0, 0, 0, ..., 0, 0, 0],\n         [0, 0, 0, ..., 0, 0, 0],\n         [0, 0, 0, ..., 0, 0, 0]]), array([[ 0.,  0.,  0., ...,  0.,  0.,  0.],\n         [ 0.,  0.,  0., ...,  0.,  0.,  0.],\n         [ 0.,  0.,  0., ...,  0.,  0.,  0.],\n         ..., \n         [ 0.,  0.,  0., ...,  0.,  0.,  0.],\n         [ 0.,  0.,  0., ...,  0.,  0.,  0.],\n         [ 0.,  0.,  0., ...,  0.,  0.,  0.]])],\n '1f2e22f9-6c7d-4231-8582-a33100225f33.png': [array([[0, 0, 0, ..., 0, 0, 0],\n         [0, 0, 0, ..., 0, 0, 0],\n         [0, 0, 0, ..., 0, 0, 0],\n         ..., \n         [1, 1, 1, ..., 1, 1, 1],\n         [1, 1, 1, ..., 1, 1, 1],\n         [1, 1, 1, ..., 1, 1, 1]]), array([[ 0.,  0.,  0., ...,  0.,  0.,  0.],\n         [ 0.,  0.,  0., ...,  0.,  0.,  0.],\n         [ 0.,  0.,  0., ...,  0.,  0.,  0.],\n         ..., \n         [ 0.,  0.,  0., ...,  0.,  0.,  0.],\n         [ 0.,  0.,  0., ...,  0.,  0.,  0.],\n         [ 0.,  0.,  0., ...,  0.,  0.,  0.]])],\n '33ea64c2-7925-491c-908d-a33100225f33.png': [array([[0, 0, 0, ..., 0, 0, 0],\n         [0, 0, 0, ..., 0, 0, 0],\n         [0, 0, 0, ..., 0, 0, 0],\n         ..., \n         [1, 1, 1, ..., 1, 1, 1],\n         [1, 1, 1, ..., 1, 1, 1],\n         [1, 1, 1, ..., 1, 1, 1]]), array([[ 0.,  0.,  0., ...,  0.,  0.,  0.],\n         [ 0.,  0.,  0., ...,  0.,  0.,  0.],\n         [ 0.,  0.,  0., ...,  0.,  0.,  0.],\n         ..., \n         [ 0.,  0.,  0., ...,  0.,  0.,  0.],\n         [ 0.,  0.,  0., ...,  0.,  0.,  0.],\n         [ 0.,  0.,  0., ...,  0.,  0.,  0.]])],\n '68ea36e0-8378-4f6f-b2ec-a2ff014318a6.png': [array([[0, 0, 0, ..., 0, 0, 0],\n         [0, 0, 0, ..., 0, 0, 0],\n         [0, 0, 0, ..., 0, 0, 0],\n         ..., \n         [0, 0, 0, ..., 0, 0, 0],\n         [0, 0, 0, ..., 0, 0, 0],\n         [0, 0, 0, ..., 0, 0, 0]]), array([[ 0.,  0.,  0., ...,  0.,  0.,  0.],\n         [ 0.,  0.,  0., ...,  0.,  0.,  0.],\n         [ 0.,  0.,  0., ...,  0.,  0.,  0.],\n         ..., \n         [ 0.,  0.,  0., ...,  0.,  0.,  0.],\n         [ 0.,  0.,  0., ...,  0.,  0.,  0.],\n         [ 0.,  0.,  0., ...,  0.,  0.,  0.]])],\n '9d76ea0a-f785-4a66-9cf6-a334013e9a65.png': [array([[0, 0, 0, ..., 0, 0, 0],\n         [0, 0, 0, ..., 0, 0, 0],\n         [0, 0, 0, ..., 0, 0, 0],\n         ..., \n         [0, 0, 0, ..., 0, 0, 0],\n         [0, 0, 0, ..., 0, 0, 0],\n         [0, 0, 0, ..., 0, 0, 0]]), array([[ 0.,  0.,  0., ...,  0.,  0.,  0.],\n         [ 0.,  0.,  0., ...,  0.,  0.,  0.],\n         [ 0.,  0.,  0., ...,  0.,  0.,  0.],\n         ..., \n         [ 0.,  0.,  0., ...,  0.,  0.,  0.],\n         [ 0.,  0.,  0., ...,  0.,  0.,  0.],\n         [ 0.,  0.,  0., ...,  0.,  0.,  0.]])],\n 'b0043e49-e0f3-43c3-8123-a33100225f33.png': [array([[0, 0, 0, ..., 0, 0, 0],\n         [0, 0, 0, ..., 0, 0, 0],\n         [0, 0, 0, ..., 0, 0, 0],\n         ..., \n         [1, 1, 1, ..., 1, 1, 1],\n         [1, 1, 1, ..., 1, 1, 1],\n         [1, 1, 1, ..., 1, 1, 1]]), array([[ 0.,  0.,  0., ...,  0.,  0.,  0.],\n         [ 0.,  0.,  0., ...,  0.,  0.,  0.],\n         [ 0.,  0.,  0., ...,  0.,  0.,  0.],\n         ..., \n         [ 0.,  0.,  0., ...,  0.,  0.,  0.],\n         [ 0.,  0.,  0., ...,  0.,  0.,  0.],\n         [ 0.,  0.,  0., ...,  0.,  0.,  0.]])],\n 'e1d7d9b3-ade8-40fb-b6ec-a2ee00091f9d.png': [array([[1, 1, 1, ..., 1, 1, 1],\n         [1, 1, 0, ..., 0, 0, 1],\n         [1, 0, 0, ..., 0, 0, 1],\n         ..., \n         [1, 0, 0, ..., 0, 0, 1],\n         [1, 0, 0, ..., 0, 0, 1],\n         [1, 1, 1, ..., 1, 1, 1]]), array([[ 0.,  0.,  0., ...,  0.,  0.,  0.],\n         [ 0.,  0.,  0., ...,  0.,  0.,  0.],\n         [ 0.,  0.,  0., ...,  0.,  0.,  0.],\n         ..., \n         [ 0.,  0.,  0., ...,  0.,  0.,  0.],\n         [ 0.,  0.,  0., ...,  0.,  0.,  0.],\n         [ 0.,  0.,  0., ...,  0.,  0.,  0.]])]}"
      ]
     },
     "execution_count": 21,
     "metadata": {},
     "output_type": "execute_result"
    }
   ],
   "source": [
    "img_dict"
   ]
  },
  {
   "cell_type": "code",
   "execution_count": null,
   "metadata": {},
   "outputs": [],
   "source": [
    "import cv2"
   ]
  },
  {
   "cell_type": "code",
   "execution_count": null,
   "outputs": [],
   "source": [
    ""
   ]
  }
 ],
 "metadata": {
  "kernelspec": {
   "display_name": "Python 2",
   "language": "python",
   "name": "python2"
  },
  "language_info": {
   "codemirror_mode": {
    "name": "ipython",
    "version": 2.0
   },
   "file_extension": ".py",
   "mimetype": "text/x-python",
   "name": "python",
   "nbconvert_exporter": "python",
   "pygments_lexer": "ipython2",
   "version": "2.7.6"
  }
 },
 "nbformat": 4,
 "nbformat_minor": 0
}