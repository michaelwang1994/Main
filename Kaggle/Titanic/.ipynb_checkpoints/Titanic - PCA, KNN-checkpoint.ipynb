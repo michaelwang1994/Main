{
 "cells": [
  {
   "cell_type": "code",
   "execution_count": 20,
   "metadata": {
    "collapsed": true
   },
   "outputs": [],
   "source": [
    "%matplotlib inline\n",
    "import numpy as np\n",
    "import scipy as sp\n",
    "import matplotlib as mpl\n",
    "import matplotlib.cm as cm\n",
    "import matplotlib.pyplot as plt\n",
    "import pandas as pd\n",
    "pd.set_option('display.width', 500)\n",
    "pd.set_option('display.max_columns', 100)\n",
    "pd.set_option('display.notebook_repr_html', True)\n",
    "import seaborn as sns\n",
    "sns.set_style(\"whitegrid\")\n",
    "sns.set_context(\"poster\")\n",
    "from PIL import Image"
   ]
  },
  {
   "cell_type": "code",
   "execution_count": 42,
   "metadata": {
    "collapsed": false
   },
   "outputs": [],
   "source": [
    "train = pd.read_csv('train.csv', header = 0)\n",
    "train['Title'] = train['Name'].str.extract(r'([^\\W]+\\.)')\n",
    "train['Child'] = np.where(train['Age'] > 18, 0, 1)"
   ]
  },
  {
   "cell_type": "code",
   "execution_count": 43,
   "metadata": {
    "collapsed": false,
    "scrolled": true
   },
   "outputs": [
    {
     "name": "stderr",
     "output_type": "stream",
     "text": [
      "/Users/hechengwang/anaconda/lib/python2.7/site-packages/sklearn/utils/validation.py:386: DeprecationWarning: Passing 1d arrays as data is deprecated in 0.17 and willraise ValueError in 0.19. Reshape your data either using X.reshape(-1, 1) if your data has a single feature or X.reshape(1, -1) if it contains a single sample.\n",
      "  DeprecationWarning)\n",
      "/Users/hechengwang/anaconda/lib/python2.7/site-packages/sklearn/utils/validation.py:386: DeprecationWarning: Passing 1d arrays as data is deprecated in 0.17 and willraise ValueError in 0.19. Reshape your data either using X.reshape(-1, 1) if your data has a single feature or X.reshape(1, -1) if it contains a single sample.\n",
      "  DeprecationWarning)\n",
      "/Users/hechengwang/anaconda/lib/python2.7/site-packages/sklearn/utils/validation.py:420: DataConversionWarning: Data with input dtype int64 was converted to float64 by the normalize function.\n",
      "  warnings.warn(msg, DataConversionWarning)\n",
      "/Users/hechengwang/anaconda/lib/python2.7/site-packages/sklearn/utils/validation.py:386: DeprecationWarning: Passing 1d arrays as data is deprecated in 0.17 and willraise ValueError in 0.19. Reshape your data either using X.reshape(-1, 1) if your data has a single feature or X.reshape(1, -1) if it contains a single sample.\n",
      "  DeprecationWarning)\n",
      "/Users/hechengwang/anaconda/lib/python2.7/site-packages/sklearn/utils/validation.py:420: DataConversionWarning: Data with input dtype int64 was converted to float64 by the normalize function.\n",
      "  warnings.warn(msg, DataConversionWarning)\n"
     ]
    },
    {
     "data": {
      "text/html": [
       "<div>\n",
       "<table border=\"1\" class=\"dataframe\">\n",
       "  <thead>\n",
       "    <tr style=\"text-align: right;\">\n",
       "      <th></th>\n",
       "      <th>PassengerId</th>\n",
       "      <th>Survived</th>\n",
       "      <th>Pclass</th>\n",
       "      <th>Name</th>\n",
       "      <th>Sex</th>\n",
       "      <th>Age</th>\n",
       "      <th>SibSp</th>\n",
       "      <th>Parch</th>\n",
       "      <th>Ticket</th>\n",
       "      <th>Fare</th>\n",
       "      <th>Cabin</th>\n",
       "      <th>Embarked</th>\n",
       "      <th>Title</th>\n",
       "      <th>Child</th>\n",
       "      <th>ExpensiveTicket</th>\n",
       "      <th>FamSize</th>\n",
       "      <th>CabinCategory</th>\n",
       "      <th>CabinNumber</th>\n",
       "    </tr>\n",
       "  </thead>\n",
       "  <tbody>\n",
       "    <tr>\n",
       "      <th>0</th>\n",
       "      <td>1</td>\n",
       "      <td>0</td>\n",
       "      <td>0.040935</td>\n",
       "      <td>Braund, Mr. Owen Harris</td>\n",
       "      <td>1</td>\n",
       "      <td>0.023423</td>\n",
       "      <td>1</td>\n",
       "      <td>0</td>\n",
       "      <td>A/5 21171</td>\n",
       "      <td>7.2500</td>\n",
       "      <td>NaN</td>\n",
       "      <td>S</td>\n",
       "      <td>Mr.</td>\n",
       "      <td>0</td>\n",
       "      <td>0</td>\n",
       "      <td>0.018119</td>\n",
       "      <td>C</td>\n",
       "      <td>33</td>\n",
       "    </tr>\n",
       "    <tr>\n",
       "      <th>1</th>\n",
       "      <td>2</td>\n",
       "      <td>1</td>\n",
       "      <td>0.013645</td>\n",
       "      <td>Cumings, Mrs. John Bradley (Florence Briggs Th...</td>\n",
       "      <td>0</td>\n",
       "      <td>0.040458</td>\n",
       "      <td>1</td>\n",
       "      <td>0</td>\n",
       "      <td>PC 17599</td>\n",
       "      <td>71.2833</td>\n",
       "      <td>C85</td>\n",
       "      <td>C</td>\n",
       "      <td>Mrs.</td>\n",
       "      <td>0</td>\n",
       "      <td>1</td>\n",
       "      <td>0.018119</td>\n",
       "      <td>C</td>\n",
       "      <td>85</td>\n",
       "    </tr>\n",
       "    <tr>\n",
       "      <th>2</th>\n",
       "      <td>3</td>\n",
       "      <td>1</td>\n",
       "      <td>0.040935</td>\n",
       "      <td>Heikkinen, Miss. Laina</td>\n",
       "      <td>0</td>\n",
       "      <td>0.027682</td>\n",
       "      <td>0</td>\n",
       "      <td>0</td>\n",
       "      <td>STON/O2. 3101282</td>\n",
       "      <td>7.9250</td>\n",
       "      <td>NaN</td>\n",
       "      <td>S</td>\n",
       "      <td>Miss.</td>\n",
       "      <td>0</td>\n",
       "      <td>0</td>\n",
       "      <td>0.000000</td>\n",
       "      <td>C</td>\n",
       "      <td>33</td>\n",
       "    </tr>\n",
       "    <tr>\n",
       "      <th>3</th>\n",
       "      <td>4</td>\n",
       "      <td>1</td>\n",
       "      <td>0.013645</td>\n",
       "      <td>Futrelle, Mrs. Jacques Heath (Lily May Peel)</td>\n",
       "      <td>0</td>\n",
       "      <td>0.037264</td>\n",
       "      <td>1</td>\n",
       "      <td>0</td>\n",
       "      <td>113803</td>\n",
       "      <td>53.1000</td>\n",
       "      <td>C123</td>\n",
       "      <td>S</td>\n",
       "      <td>Mrs.</td>\n",
       "      <td>0</td>\n",
       "      <td>1</td>\n",
       "      <td>0.018119</td>\n",
       "      <td>C</td>\n",
       "      <td>123</td>\n",
       "    </tr>\n",
       "    <tr>\n",
       "      <th>4</th>\n",
       "      <td>5</td>\n",
       "      <td>0</td>\n",
       "      <td>0.040935</td>\n",
       "      <td>Allen, Mr. William Henry</td>\n",
       "      <td>1</td>\n",
       "      <td>0.037264</td>\n",
       "      <td>0</td>\n",
       "      <td>0</td>\n",
       "      <td>373450</td>\n",
       "      <td>8.0500</td>\n",
       "      <td>NaN</td>\n",
       "      <td>S</td>\n",
       "      <td>Mr.</td>\n",
       "      <td>0</td>\n",
       "      <td>0</td>\n",
       "      <td>0.000000</td>\n",
       "      <td>C</td>\n",
       "      <td>33</td>\n",
       "    </tr>\n",
       "  </tbody>\n",
       "</table>\n",
       "</div>"
      ],
      "text/plain": [
       "   PassengerId  Survived    Pclass                                               Name  Sex       Age  SibSp  Parch            Ticket     Fare Cabin Embarked  Title  Child  ExpensiveTicket   FamSize CabinCategory CabinNumber\n",
       "0            1         0  0.040935                            Braund, Mr. Owen Harris    1  0.023423      1      0         A/5 21171   7.2500   NaN        S    Mr.      0                0  0.018119             C          33\n",
       "1            2         1  0.013645  Cumings, Mrs. John Bradley (Florence Briggs Th...    0  0.040458      1      0          PC 17599  71.2833   C85        C   Mrs.      0                1  0.018119             C          85\n",
       "2            3         1  0.040935                             Heikkinen, Miss. Laina    0  0.027682      0      0  STON/O2. 3101282   7.9250   NaN        S  Miss.      0                0  0.000000             C          33\n",
       "3            4         1  0.013645       Futrelle, Mrs. Jacques Heath (Lily May Peel)    0  0.037264      1      0            113803  53.1000  C123        S   Mrs.      0                1  0.018119             C         123\n",
       "4            5         0  0.040935                           Allen, Mr. William Henry    1  0.037264      0      0            373450   8.0500   NaN        S    Mr.      0                0  0.000000             C          33"
      ]
     },
     "execution_count": 43,
     "metadata": {},
     "output_type": "execute_result"
    }
   ],
   "source": [
    "from sklearn.preprocessing import normalize\n",
    "train['ExpensiveTicket'] = np.where(train['Fare'] > train['Fare'].mean(), 1, 0)\n",
    "train['Age'] = train['Age'].fillna(value = train['Age'].mode()[0])\n",
    "train['Age'] = normalize(train['Age'].values)[0]\n",
    "train['FamSize'] = train['SibSp'] + train['Parch']\n",
    "train['FamSize'] = normalize(train['FamSize'].values)[0]\n",
    "train['Pclass'] = normalize(train['Pclass'].values)[0]\n",
    "train['CabinCategory'] = pd.Series(train['Cabin']).str[0]\n",
    "train['CabinNumber'] = pd.Series(train['Cabin'].dropna().str.extract(r'(\\d+)'))\n",
    "train['CabinNumber'] = train['CabinNumber'].fillna(value = train['CabinNumber'].mode()[0])\n",
    "train['Sex'] = np.where(train['Sex'] == 'male', 1, 0)\n",
    "train['CabinCategory'] = train['CabinCategory'].fillna(value = train['CabinCategory'].mode()[0])\n",
    "train['Embarked'] = train['Embarked'].fillna(value = train['Embarked'].mode()[0])\n",
    "train.head()"
   ]
  },
  {
   "cell_type": "code",
   "execution_count": 49,
   "metadata": {
    "collapsed": false
   },
   "outputs": [
    {
     "name": "stderr",
     "output_type": "stream",
     "text": [
      "/Users/hechengwang/anaconda/lib/python2.7/site-packages/sklearn/utils/validation.py:386: DeprecationWarning: Passing 1d arrays as data is deprecated in 0.17 and willraise ValueError in 0.19. Reshape your data either using X.reshape(-1, 1) if your data has a single feature or X.reshape(1, -1) if it contains a single sample.\n",
      "  DeprecationWarning)\n",
      "/Users/hechengwang/anaconda/lib/python2.7/site-packages/sklearn/utils/validation.py:420: DataConversionWarning: Data with input dtype int64 was converted to float64 by the normalize function.\n",
      "  warnings.warn(msg, DataConversionWarning)\n",
      "/Users/hechengwang/anaconda/lib/python2.7/site-packages/sklearn/utils/validation.py:386: DeprecationWarning: Passing 1d arrays as data is deprecated in 0.17 and willraise ValueError in 0.19. Reshape your data either using X.reshape(-1, 1) if your data has a single feature or X.reshape(1, -1) if it contains a single sample.\n",
      "  DeprecationWarning)\n",
      "/Users/hechengwang/anaconda/lib/python2.7/site-packages/sklearn/utils/validation.py:420: DataConversionWarning: Data with input dtype int64 was converted to float64 by the normalize function.\n",
      "  warnings.warn(msg, DataConversionWarning)\n",
      "/Users/hechengwang/anaconda/lib/python2.7/site-packages/sklearn/utils/validation.py:386: DeprecationWarning: Passing 1d arrays as data is deprecated in 0.17 and willraise ValueError in 0.19. Reshape your data either using X.reshape(-1, 1) if your data has a single feature or X.reshape(1, -1) if it contains a single sample.\n",
      "  DeprecationWarning)\n",
      "/Users/hechengwang/anaconda/lib/python2.7/site-packages/sklearn/utils/validation.py:420: DataConversionWarning: Data with input dtype int64 was converted to float64 by the normalize function.\n",
      "  warnings.warn(msg, DataConversionWarning)\n",
      "/Users/hechengwang/anaconda/lib/python2.7/site-packages/sklearn/utils/validation.py:386: DeprecationWarning: Passing 1d arrays as data is deprecated in 0.17 and willraise ValueError in 0.19. Reshape your data either using X.reshape(-1, 1) if your data has a single feature or X.reshape(1, -1) if it contains a single sample.\n",
      "  DeprecationWarning)\n"
     ]
    },
    {
     "data": {
      "text/html": [
       "<div>\n",
       "<table border=\"1\" class=\"dataframe\">\n",
       "  <thead>\n",
       "    <tr style=\"text-align: right;\">\n",
       "      <th></th>\n",
       "      <th>PassengerId</th>\n",
       "      <th>Survived</th>\n",
       "      <th>Pclass</th>\n",
       "      <th>Name</th>\n",
       "      <th>Sex</th>\n",
       "      <th>Age</th>\n",
       "      <th>SibSp</th>\n",
       "      <th>Parch</th>\n",
       "      <th>Ticket</th>\n",
       "      <th>Fare</th>\n",
       "      <th>Cabin</th>\n",
       "      <th>Embarked</th>\n",
       "      <th>Title</th>\n",
       "      <th>Child</th>\n",
       "      <th>ExpensiveTicket</th>\n",
       "      <th>FamSize</th>\n",
       "      <th>CabinCategory</th>\n",
       "      <th>CabinNumber</th>\n",
       "    </tr>\n",
       "  </thead>\n",
       "  <tbody>\n",
       "    <tr>\n",
       "      <th>0</th>\n",
       "      <td>1</td>\n",
       "      <td>0</td>\n",
       "      <td>0.040935</td>\n",
       "      <td>Braund, Mr. Owen Harris</td>\n",
       "      <td>1</td>\n",
       "      <td>0.023423</td>\n",
       "      <td>1</td>\n",
       "      <td>0</td>\n",
       "      <td>A/5 21171</td>\n",
       "      <td>7.2500</td>\n",
       "      <td>NaN</td>\n",
       "      <td>0.038771</td>\n",
       "      <td>0.035342</td>\n",
       "      <td>0</td>\n",
       "      <td>0</td>\n",
       "      <td>0.018119</td>\n",
       "      <td>0.030296</td>\n",
       "      <td>0.026840</td>\n",
       "    </tr>\n",
       "    <tr>\n",
       "      <th>1</th>\n",
       "      <td>2</td>\n",
       "      <td>1</td>\n",
       "      <td>0.013645</td>\n",
       "      <td>Cumings, Mrs. John Bradley (Florence Briggs Th...</td>\n",
       "      <td>0</td>\n",
       "      <td>0.040458</td>\n",
       "      <td>1</td>\n",
       "      <td>0</td>\n",
       "      <td>PC 17599</td>\n",
       "      <td>71.2833</td>\n",
       "      <td>C85</td>\n",
       "      <td>0.000000</td>\n",
       "      <td>0.038288</td>\n",
       "      <td>0</td>\n",
       "      <td>1</td>\n",
       "      <td>0.018119</td>\n",
       "      <td>0.030296</td>\n",
       "      <td>0.069134</td>\n",
       "    </tr>\n",
       "    <tr>\n",
       "      <th>2</th>\n",
       "      <td>3</td>\n",
       "      <td>1</td>\n",
       "      <td>0.040935</td>\n",
       "      <td>Heikkinen, Miss. Laina</td>\n",
       "      <td>0</td>\n",
       "      <td>0.027682</td>\n",
       "      <td>0</td>\n",
       "      <td>0</td>\n",
       "      <td>STON/O2. 3101282</td>\n",
       "      <td>7.9250</td>\n",
       "      <td>NaN</td>\n",
       "      <td>0.038771</td>\n",
       "      <td>0.026507</td>\n",
       "      <td>0</td>\n",
       "      <td>0</td>\n",
       "      <td>0.000000</td>\n",
       "      <td>0.030296</td>\n",
       "      <td>0.026840</td>\n",
       "    </tr>\n",
       "    <tr>\n",
       "      <th>3</th>\n",
       "      <td>4</td>\n",
       "      <td>1</td>\n",
       "      <td>0.013645</td>\n",
       "      <td>Futrelle, Mrs. Jacques Heath (Lily May Peel)</td>\n",
       "      <td>0</td>\n",
       "      <td>0.037264</td>\n",
       "      <td>1</td>\n",
       "      <td>0</td>\n",
       "      <td>113803</td>\n",
       "      <td>53.1000</td>\n",
       "      <td>C123</td>\n",
       "      <td>0.038771</td>\n",
       "      <td>0.038288</td>\n",
       "      <td>0</td>\n",
       "      <td>1</td>\n",
       "      <td>0.018119</td>\n",
       "      <td>0.030296</td>\n",
       "      <td>0.100041</td>\n",
       "    </tr>\n",
       "    <tr>\n",
       "      <th>4</th>\n",
       "      <td>5</td>\n",
       "      <td>0</td>\n",
       "      <td>0.040935</td>\n",
       "      <td>Allen, Mr. William Henry</td>\n",
       "      <td>1</td>\n",
       "      <td>0.037264</td>\n",
       "      <td>0</td>\n",
       "      <td>0</td>\n",
       "      <td>373450</td>\n",
       "      <td>8.0500</td>\n",
       "      <td>NaN</td>\n",
       "      <td>0.038771</td>\n",
       "      <td>0.035342</td>\n",
       "      <td>0</td>\n",
       "      <td>0</td>\n",
       "      <td>0.000000</td>\n",
       "      <td>0.030296</td>\n",
       "      <td>0.026840</td>\n",
       "    </tr>\n",
       "  </tbody>\n",
       "</table>\n",
       "</div>"
      ],
      "text/plain": [
       "   PassengerId  Survived    Pclass                                               Name  Sex       Age  SibSp  Parch            Ticket     Fare Cabin  Embarked     Title  Child  ExpensiveTicket   FamSize  CabinCategory  CabinNumber\n",
       "0            1         0  0.040935                            Braund, Mr. Owen Harris    1  0.023423      1      0         A/5 21171   7.2500   NaN  0.038771  0.035342      0                0  0.018119       0.030296     0.026840\n",
       "1            2         1  0.013645  Cumings, Mrs. John Bradley (Florence Briggs Th...    0  0.040458      1      0          PC 17599  71.2833   C85  0.000000  0.038288      0                1  0.018119       0.030296     0.069134\n",
       "2            3         1  0.040935                             Heikkinen, Miss. Laina    0  0.027682      0      0  STON/O2. 3101282   7.9250   NaN  0.038771  0.026507      0                0  0.000000       0.030296     0.026840\n",
       "3            4         1  0.013645       Futrelle, Mrs. Jacques Heath (Lily May Peel)    0  0.037264      1      0            113803  53.1000  C123  0.038771  0.038288      0                1  0.018119       0.030296     0.100041\n",
       "4            5         0  0.040935                           Allen, Mr. William Henry    1  0.037264      0      0            373450   8.0500   NaN  0.038771  0.035342      0                0  0.000000       0.030296     0.026840"
      ]
     },
     "execution_count": 49,
     "metadata": {},
     "output_type": "execute_result"
    }
   ],
   "source": [
    "from sklearn.neighbors import KNeighborsClassifier\n",
    "from sklearn.decomposition import PCA\n",
    "from sklearn.preprocessing import LabelEncoder\n",
    "\n",
    "le = LabelEncoder()\n",
    "le.fit(train['Title'])\n",
    "train['Title'] = le.transform(train['Title'])\n",
    "train['Title'] = normalize(train['Title'].values)[0]\n",
    "le.fit(train['Embarked'])\n",
    "train['Embarked'] = le.transform(train['Embarked'])\n",
    "train['Embarked'] = normalize(train['Embarked'].values)[0]\n",
    "le.fit(train['CabinCategory'])\n",
    "train['CabinCategory'] = le.transform(train['CabinCategory'])\n",
    "train['CabinCategory'] = normalize(train['CabinCategory'].values)[0]\n",
    "train['CabinNumber'] = normalize(train['CabinNumber'].values)[0]\n",
    "train.head()"
   ]
  },
  {
   "cell_type": "code",
   "execution_count": 76,
   "metadata": {
    "collapsed": false
   },
   "outputs": [
    {
     "name": "stdout",
     "output_type": "stream",
     "text": [
      "     Pclass  Sex       Age     Fare  Embarked     Title  Child  ExpensiveTicket   FamSize  CabinCategory  CabinNumber\n",
      "0  0.040935    1  0.023423   7.2500  0.038771  0.035342      0                0  0.018119       0.030296     0.026840\n",
      "1  0.013645    0  0.040458  71.2833  0.000000  0.038288      0                1  0.018119       0.030296     0.069134\n",
      "2  0.040935    0  0.027682   7.9250  0.038771  0.026507      0                0  0.000000       0.030296     0.026840\n",
      "3  0.013645    0  0.037264  53.1000  0.038771  0.038288      0                1  0.018119       0.030296     0.100041\n",
      "4  0.040935    1  0.037264   8.0500  0.038771  0.035342      0                0  0.000000       0.030296     0.026840\n"
     ]
    }
   ],
   "source": [
    "train_x = train.drop(['PassengerId', 'Survived', 'Name', 'Ticket', 'Cabin', 'SibSp', 'Parch'], axis = 1)\n",
    "train_y = train['Survived']\n",
    "print train_x.head()\n",
    "pca = PCA(n_components=11)\n",
    "X = pca.fit_transform(train_x)"
   ]
  },
  {
   "cell_type": "code",
   "execution_count": 77,
   "metadata": {
    "collapsed": false
   },
   "outputs": [
    {
     "data": {
      "text/plain": [
       "array([  9.99777092e+01,   9.67990709e-03,   8.51012466e-03,\n",
       "         4.04067360e-03,   3.01423296e-05,   8.47590085e-06,\n",
       "         8.40356720e-06,   5.10550708e-06,   4.68316563e-06,\n",
       "         2.32076862e-06,   1.00493044e-06])"
      ]
     },
     "execution_count": 77,
     "metadata": {},
     "output_type": "execute_result"
    }
   ],
   "source": [
    "pca.explained_variance_ratio_*100"
   ]
  },
  {
   "cell_type": "code",
   "execution_count": 109,
   "metadata": {
    "collapsed": false
   },
   "outputs": [
    {
     "name": "stdout",
     "output_type": "stream",
     "text": [
      "[[ -2.49554464e+01  -4.87225816e-01   1.26857054e-02 ...,  -4.91131533e-03\n",
      "   -1.89196552e-03  -1.05139759e-03]\n",
      " [  3.90841627e+01   1.23856798e-01  -6.91878463e-01 ...,   5.82238481e-05\n",
      "   -1.84710267e-03  -6.17410991e-03]\n",
      " [ -2.42787068e+01   1.37188091e-01  -7.62757167e-01 ...,  -7.13228382e-03\n",
      "   -4.71684201e-03   6.33838976e-03]\n",
      " ..., \n",
      " [ -8.75477231e+00   9.07970485e-01  -1.02117669e-01 ...,  -1.31433959e-03\n",
      "   -2.66852188e-03   3.96536312e-03]\n",
      " [ -2.20584936e+00  -5.01998492e-01   6.42675138e-02 ...,   1.34382577e-04\n",
      "    1.00445872e-02  -2.60137633e-03]\n",
      " [ -2.44554561e+01  -4.87910383e-01   1.37306206e-02 ...,  -1.01055611e-03\n",
      "   -5.93241892e-03   4.34825358e-04]]\n"
     ]
    }
   ],
   "source": [
    "print(X)"
   ]
  },
  {
   "cell_type": "code",
   "execution_count": 102,
   "metadata": {
    "collapsed": false
   },
   "outputs": [],
   "source": [
    "from sklearn.neighbors import KNeighborsClassifier\n",
    "from sklearn.cross_validation import train_test_split\n",
    "\n",
    "def classify(X,y, nbrs, plotit=True, train_size=0.6):\n",
    "    Xtrain, Xtest, ytrain, ytest = train_test_split(X, y, train_size=train_size)\n",
    "    clf= KNeighborsClassifier(nbrs)\n",
    "    clf=clf.fit(Xtrain, ytrain)\n",
    "    #in sklearn accuracy can be found by using \"score\". It predicts and then gets the accuracy\n",
    "    training_accuracy = clf.score(Xtrain, ytrain)\n",
    "    test_accuracy = clf.score(Xtest, ytest)\n",
    "    Xall=np.concatenate((Xtrain, Xtest))\n",
    "    if plotit:\n",
    "        pass\n",
    "        #print \"Accuracy on training data: %0.2f\" % (training_accuracy)\n",
    "        #print \"Accuracy on test data:     %0.2f\" % (test_accuracy)\n",
    "        #plt.figure()\n",
    "        #ax=plt.gca()\n",
    "        #points_plot(ax, Xtrain, Xtest, ytrain, ytest, clf, alpha=0.3, psize=20)\n",
    "    return nbrs, training_accuracy, test_accuracy"
   ]
  },
  {
   "cell_type": "code",
   "execution_count": 113,
   "metadata": {
    "collapsed": false,
    "scrolled": true
   },
   "outputs": [
    {
     "name": "stdout",
     "output_type": "stream",
     "text": [
      "0.663865546218\n"
     ]
    }
   ],
   "source": [
    "for neighbor in range(1,100):\n",
    "    store_value = 0\n",
    "    if classify(train_x, train_y, neighbor)[2] > store_value:\n",
    "        store_value = classify(train_x, train_y, neighbor)[2]\n",
    "print store_value"
   ]
  }
 ],
 "metadata": {
  "kernelspec": {
   "display_name": "Python 2",
   "language": "python",
   "name": "python2"
  },
  "language_info": {
   "codemirror_mode": {
    "name": "ipython",
    "version": 2
   },
   "file_extension": ".py",
   "mimetype": "text/x-python",
   "name": "python",
   "nbconvert_exporter": "python",
   "pygments_lexer": "ipython2",
   "version": "2.7.11"
  }
 },
 "nbformat": 4,
 "nbformat_minor": 0
}
