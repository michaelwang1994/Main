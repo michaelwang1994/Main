{
 "cells": [
  {
   "cell_type": "code",
   "execution_count": 71,
   "metadata": {
    "collapsed": true
   },
   "outputs": [],
   "source": [
    "%matplotlib inline\n",
    "import numpy as np\n",
    "import scipy as sp\n",
    "import matplotlib as mpl\n",
    "import matplotlib.cm as cm\n",
    "import matplotlib.pyplot as plt\n",
    "import pandas as pd\n",
    "pd.set_option('display.width', 500)\n",
    "pd.set_option('display.max_columns', 100)\n",
    "pd.set_option('display.notebook_repr_html', True)\n",
    "import seaborn as sns\n",
    "sns.set_style(\"whitegrid\")\n",
    "sns.set_context(\"poster\")\n",
    "from PIL import Image"
   ]
  },
  {
   "cell_type": "code",
   "execution_count": 72,
   "metadata": {
    "collapsed": false
   },
   "outputs": [],
   "source": [
    "train = pd.read_csv('train.csv', header = 0)\n",
    "train['Title'] = train['Name'].str.extract(r'([^\\W]+\\.)')\n",
    "train['Child'] = np.where(train['Age'] > 18, 0, 1)"
   ]
  },
  {
   "cell_type": "code",
   "execution_count": 73,
   "metadata": {
    "collapsed": false,
    "scrolled": true
   },
   "outputs": [
    {
     "data": {
      "text/html": [
       "<div>\n",
       "<table border=\"1\" class=\"dataframe\">\n",
       "  <thead>\n",
       "    <tr style=\"text-align: right;\">\n",
       "      <th></th>\n",
       "      <th>PassengerId</th>\n",
       "      <th>Survived</th>\n",
       "      <th>Pclass</th>\n",
       "      <th>Name</th>\n",
       "      <th>Sex</th>\n",
       "      <th>Age</th>\n",
       "      <th>SibSp</th>\n",
       "      <th>Parch</th>\n",
       "      <th>Ticket</th>\n",
       "      <th>Fare</th>\n",
       "      <th>Cabin</th>\n",
       "      <th>Embarked</th>\n",
       "      <th>Title</th>\n",
       "      <th>Child</th>\n",
       "      <th>ExpensiveTicket</th>\n",
       "      <th>FamSize</th>\n",
       "      <th>CabinCategory</th>\n",
       "      <th>CabinNumber</th>\n",
       "    </tr>\n",
       "  </thead>\n",
       "  <tbody>\n",
       "    <tr>\n",
       "      <th>0</th>\n",
       "      <td>1</td>\n",
       "      <td>0</td>\n",
       "      <td>3</td>\n",
       "      <td>Braund, Mr. Owen Harris</td>\n",
       "      <td>1</td>\n",
       "      <td>22</td>\n",
       "      <td>1</td>\n",
       "      <td>0</td>\n",
       "      <td>A/5 21171</td>\n",
       "      <td>7.2500</td>\n",
       "      <td>NaN</td>\n",
       "      <td>S</td>\n",
       "      <td>Mr.</td>\n",
       "      <td>0</td>\n",
       "      <td>0</td>\n",
       "      <td>1</td>\n",
       "      <td>C</td>\n",
       "      <td>33</td>\n",
       "    </tr>\n",
       "    <tr>\n",
       "      <th>1</th>\n",
       "      <td>2</td>\n",
       "      <td>1</td>\n",
       "      <td>1</td>\n",
       "      <td>Cumings, Mrs. John Bradley (Florence Briggs Th...</td>\n",
       "      <td>0</td>\n",
       "      <td>38</td>\n",
       "      <td>1</td>\n",
       "      <td>0</td>\n",
       "      <td>PC 17599</td>\n",
       "      <td>71.2833</td>\n",
       "      <td>C85</td>\n",
       "      <td>C</td>\n",
       "      <td>Mrs.</td>\n",
       "      <td>0</td>\n",
       "      <td>1</td>\n",
       "      <td>1</td>\n",
       "      <td>C</td>\n",
       "      <td>85</td>\n",
       "    </tr>\n",
       "    <tr>\n",
       "      <th>2</th>\n",
       "      <td>3</td>\n",
       "      <td>1</td>\n",
       "      <td>3</td>\n",
       "      <td>Heikkinen, Miss. Laina</td>\n",
       "      <td>0</td>\n",
       "      <td>26</td>\n",
       "      <td>0</td>\n",
       "      <td>0</td>\n",
       "      <td>STON/O2. 3101282</td>\n",
       "      <td>7.9250</td>\n",
       "      <td>NaN</td>\n",
       "      <td>S</td>\n",
       "      <td>Miss.</td>\n",
       "      <td>0</td>\n",
       "      <td>0</td>\n",
       "      <td>0</td>\n",
       "      <td>C</td>\n",
       "      <td>33</td>\n",
       "    </tr>\n",
       "    <tr>\n",
       "      <th>3</th>\n",
       "      <td>4</td>\n",
       "      <td>1</td>\n",
       "      <td>1</td>\n",
       "      <td>Futrelle, Mrs. Jacques Heath (Lily May Peel)</td>\n",
       "      <td>0</td>\n",
       "      <td>35</td>\n",
       "      <td>1</td>\n",
       "      <td>0</td>\n",
       "      <td>113803</td>\n",
       "      <td>53.1000</td>\n",
       "      <td>C123</td>\n",
       "      <td>S</td>\n",
       "      <td>Mrs.</td>\n",
       "      <td>0</td>\n",
       "      <td>1</td>\n",
       "      <td>1</td>\n",
       "      <td>C</td>\n",
       "      <td>123</td>\n",
       "    </tr>\n",
       "    <tr>\n",
       "      <th>4</th>\n",
       "      <td>5</td>\n",
       "      <td>0</td>\n",
       "      <td>3</td>\n",
       "      <td>Allen, Mr. William Henry</td>\n",
       "      <td>1</td>\n",
       "      <td>35</td>\n",
       "      <td>0</td>\n",
       "      <td>0</td>\n",
       "      <td>373450</td>\n",
       "      <td>8.0500</td>\n",
       "      <td>NaN</td>\n",
       "      <td>S</td>\n",
       "      <td>Mr.</td>\n",
       "      <td>0</td>\n",
       "      <td>0</td>\n",
       "      <td>0</td>\n",
       "      <td>C</td>\n",
       "      <td>33</td>\n",
       "    </tr>\n",
       "  </tbody>\n",
       "</table>\n",
       "</div>"
      ],
      "text/plain": [
       "   PassengerId  Survived  Pclass                                               Name  Sex  Age  SibSp  Parch            Ticket     Fare Cabin Embarked  Title  Child  ExpensiveTicket  FamSize CabinCategory CabinNumber\n",
       "0            1         0       3                            Braund, Mr. Owen Harris    1   22      1      0         A/5 21171   7.2500   NaN        S    Mr.      0                0        1             C          33\n",
       "1            2         1       1  Cumings, Mrs. John Bradley (Florence Briggs Th...    0   38      1      0          PC 17599  71.2833   C85        C   Mrs.      0                1        1             C          85\n",
       "2            3         1       3                             Heikkinen, Miss. Laina    0   26      0      0  STON/O2. 3101282   7.9250   NaN        S  Miss.      0                0        0             C          33\n",
       "3            4         1       1       Futrelle, Mrs. Jacques Heath (Lily May Peel)    0   35      1      0            113803  53.1000  C123        S   Mrs.      0                1        1             C         123\n",
       "4            5         0       3                           Allen, Mr. William Henry    1   35      0      0            373450   8.0500   NaN        S    Mr.      0                0        0             C          33"
      ]
     },
     "execution_count": 73,
     "metadata": {},
     "output_type": "execute_result"
    }
   ],
   "source": [
    "from sklearn.preprocessing import normalize\n",
    "train['ExpensiveTicket'] = np.where(train['Fare'] > train['Fare'].mean(), 1, 0)\n",
    "train['Age'] = train['Age'].fillna(value = train['Age'].mode()[0])\n",
    "#train['Age'] = normalize(train['Age'].values)[0]\n",
    "train['FamSize'] = train['SibSp'] + train['Parch']\n",
    "#train['FamSize'] = normalize(train['FamSize'].values)[0]\n",
    "#train['Pclass'] = normalize(train['Pclass'].values)[0]\n",
    "train['CabinCategory'] = pd.Series(train['Cabin']).str[0]\n",
    "train['CabinNumber'] = pd.Series(train['Cabin'].dropna().str.extract(r'(\\d+)'))\n",
    "train['CabinNumber'] = train['CabinNumber'].fillna(value = train['CabinNumber'].mode()[0])\n",
    "train['Sex'] = np.where(train['Sex'] == 'male', 1, 0)\n",
    "train['CabinCategory'] = train['CabinCategory'].fillna(value = train['CabinCategory'].mode()[0])\n",
    "train['Embarked'] = train['Embarked'].fillna(value = train['Embarked'].mode()[0])\n",
    "train.head()"
   ]
  },
  {
   "cell_type": "code",
   "execution_count": 78,
   "metadata": {
    "collapsed": false
   },
   "outputs": [
    {
     "data": {
      "text/plain": [
       "array(['Mr.', 'Mrs.', 'Miss.', 'Master.', 'Rev.', 'Dr.', 'Ms.', 'Major.',\n",
       "       'Lady.', 'Sir.', 'Col.', 'Capt.'], dtype=object)"
      ]
     },
     "execution_count": 78,
     "metadata": {},
     "output_type": "execute_result"
    }
   ],
   "source": [
    "train.Title = np.where(train.Title == 'Don.', 'Mr.', train.Title)\n",
    "train.Title = np.where(train.Title == 'Mme.', 'Ms.', train.Title)\n",
    "train.Title = np.where(train.Title == 'Mlle.', 'Mr.', train.Title)\n",
    "train.Title = np.where(train.Title == 'Countess.', 'Ms.', train.Title)\n",
    "train.Title = np.where(train.Title == 'Jonkheer.', 'Mr.', train.Title)\n",
    "\n",
    "train.Title.unique()"
   ]
  },
  {
   "cell_type": "code",
   "execution_count": 79,
   "metadata": {
    "collapsed": false
   },
   "outputs": [
    {
     "data": {
      "text/html": [
       "<div>\n",
       "<table border=\"1\" class=\"dataframe\">\n",
       "  <thead>\n",
       "    <tr style=\"text-align: right;\">\n",
       "      <th></th>\n",
       "      <th>PassengerId</th>\n",
       "      <th>Survived</th>\n",
       "      <th>Pclass</th>\n",
       "      <th>Name</th>\n",
       "      <th>Sex</th>\n",
       "      <th>Age</th>\n",
       "      <th>SibSp</th>\n",
       "      <th>Parch</th>\n",
       "      <th>Ticket</th>\n",
       "      <th>Fare</th>\n",
       "      <th>Cabin</th>\n",
       "      <th>Embarked</th>\n",
       "      <th>Title</th>\n",
       "      <th>Child</th>\n",
       "      <th>ExpensiveTicket</th>\n",
       "      <th>FamSize</th>\n",
       "      <th>CabinCategory</th>\n",
       "      <th>CabinNumber</th>\n",
       "    </tr>\n",
       "  </thead>\n",
       "  <tbody>\n",
       "    <tr>\n",
       "      <th>0</th>\n",
       "      <td>1</td>\n",
       "      <td>0</td>\n",
       "      <td>3</td>\n",
       "      <td>Braund, Mr. Owen Harris</td>\n",
       "      <td>1</td>\n",
       "      <td>22</td>\n",
       "      <td>1</td>\n",
       "      <td>0</td>\n",
       "      <td>A/5 21171</td>\n",
       "      <td>7.2500</td>\n",
       "      <td>NaN</td>\n",
       "      <td>2</td>\n",
       "      <td>7</td>\n",
       "      <td>0</td>\n",
       "      <td>0</td>\n",
       "      <td>1</td>\n",
       "      <td>2</td>\n",
       "      <td>33</td>\n",
       "    </tr>\n",
       "    <tr>\n",
       "      <th>1</th>\n",
       "      <td>2</td>\n",
       "      <td>1</td>\n",
       "      <td>1</td>\n",
       "      <td>Cumings, Mrs. John Bradley (Florence Briggs Th...</td>\n",
       "      <td>0</td>\n",
       "      <td>38</td>\n",
       "      <td>1</td>\n",
       "      <td>0</td>\n",
       "      <td>PC 17599</td>\n",
       "      <td>71.2833</td>\n",
       "      <td>C85</td>\n",
       "      <td>0</td>\n",
       "      <td>8</td>\n",
       "      <td>0</td>\n",
       "      <td>1</td>\n",
       "      <td>1</td>\n",
       "      <td>2</td>\n",
       "      <td>85</td>\n",
       "    </tr>\n",
       "    <tr>\n",
       "      <th>2</th>\n",
       "      <td>3</td>\n",
       "      <td>1</td>\n",
       "      <td>3</td>\n",
       "      <td>Heikkinen, Miss. Laina</td>\n",
       "      <td>0</td>\n",
       "      <td>26</td>\n",
       "      <td>0</td>\n",
       "      <td>0</td>\n",
       "      <td>STON/O2. 3101282</td>\n",
       "      <td>7.9250</td>\n",
       "      <td>NaN</td>\n",
       "      <td>2</td>\n",
       "      <td>6</td>\n",
       "      <td>0</td>\n",
       "      <td>0</td>\n",
       "      <td>0</td>\n",
       "      <td>2</td>\n",
       "      <td>33</td>\n",
       "    </tr>\n",
       "    <tr>\n",
       "      <th>3</th>\n",
       "      <td>4</td>\n",
       "      <td>1</td>\n",
       "      <td>1</td>\n",
       "      <td>Futrelle, Mrs. Jacques Heath (Lily May Peel)</td>\n",
       "      <td>0</td>\n",
       "      <td>35</td>\n",
       "      <td>1</td>\n",
       "      <td>0</td>\n",
       "      <td>113803</td>\n",
       "      <td>53.1000</td>\n",
       "      <td>C123</td>\n",
       "      <td>2</td>\n",
       "      <td>8</td>\n",
       "      <td>0</td>\n",
       "      <td>1</td>\n",
       "      <td>1</td>\n",
       "      <td>2</td>\n",
       "      <td>123</td>\n",
       "    </tr>\n",
       "    <tr>\n",
       "      <th>4</th>\n",
       "      <td>5</td>\n",
       "      <td>0</td>\n",
       "      <td>3</td>\n",
       "      <td>Allen, Mr. William Henry</td>\n",
       "      <td>1</td>\n",
       "      <td>35</td>\n",
       "      <td>0</td>\n",
       "      <td>0</td>\n",
       "      <td>373450</td>\n",
       "      <td>8.0500</td>\n",
       "      <td>NaN</td>\n",
       "      <td>2</td>\n",
       "      <td>7</td>\n",
       "      <td>0</td>\n",
       "      <td>0</td>\n",
       "      <td>0</td>\n",
       "      <td>2</td>\n",
       "      <td>33</td>\n",
       "    </tr>\n",
       "  </tbody>\n",
       "</table>\n",
       "</div>"
      ],
      "text/plain": [
       "   PassengerId  Survived  Pclass                                               Name  Sex  Age  SibSp  Parch            Ticket     Fare Cabin  Embarked  Title  Child  ExpensiveTicket  FamSize  CabinCategory CabinNumber\n",
       "0            1         0       3                            Braund, Mr. Owen Harris    1   22      1      0         A/5 21171   7.2500   NaN         2      7      0                0        1              2          33\n",
       "1            2         1       1  Cumings, Mrs. John Bradley (Florence Briggs Th...    0   38      1      0          PC 17599  71.2833   C85         0      8      0                1        1              2          85\n",
       "2            3         1       3                             Heikkinen, Miss. Laina    0   26      0      0  STON/O2. 3101282   7.9250   NaN         2      6      0                0        0              2          33\n",
       "3            4         1       1       Futrelle, Mrs. Jacques Heath (Lily May Peel)    0   35      1      0            113803  53.1000  C123         2      8      0                1        1              2         123\n",
       "4            5         0       3                           Allen, Mr. William Henry    1   35      0      0            373450   8.0500   NaN         2      7      0                0        0              2          33"
      ]
     },
     "execution_count": 79,
     "metadata": {},
     "output_type": "execute_result"
    }
   ],
   "source": [
    "from sklearn.neighbors import KNeighborsClassifier\n",
    "from sklearn.decomposition import PCA\n",
    "from sklearn.preprocessing import LabelEncoder\n",
    "\n",
    "le = LabelEncoder()\n",
    "le.fit(train['Title'])\n",
    "train['Title'] = le.transform(train['Title'])\n",
    "#train['Title'] = normalize(train['Title'].values)[0]\n",
    "le.fit(train['Embarked'])\n",
    "train['Embarked'] = le.transform(train['Embarked'])\n",
    "#train['Embarked'] = normalize(train['Embarked'].values)[0]\n",
    "le.fit(train['CabinCategory'])\n",
    "train['CabinCategory'] = le.transform(train['CabinCategory'])\n",
    "#train['CabinCategory'] = normalize(train['CabinCategory'].values)[0]\n",
    "#train['CabinNumber'] = normalize(train['CabinNumber'].values)[0]\n",
    "train.head()"
   ]
  },
  {
   "cell_type": "code",
   "execution_count": null,
   "metadata": {
    "collapsed": true
   },
   "outputs": [],
   "source": []
  },
  {
   "cell_type": "code",
   "execution_count": 83,
   "metadata": {
    "collapsed": false
   },
   "outputs": [
    {
     "data": {
      "text/plain": [
       "Index([u'Pclass', u'Sex', u'Fare', u'Title', u'Child'], dtype='object')"
      ]
     },
     "execution_count": 83,
     "metadata": {},
     "output_type": "execute_result"
    }
   ],
   "source": [
    "train_x = train.drop(['PassengerId', 'Survived', 'Name', 'Ticket', \n",
    "                      'Cabin', 'SibSp', 'Parch', 'CabinNumber', \n",
    "                      'ExpensiveTicket', 'FamSize', 'CabinCategory',\n",
    "                      'Age', 'Embarked'], axis = 1)\n",
    "train_y = train['Survived']\n",
    "train_x.columns"
   ]
  },
  {
   "cell_type": "code",
   "execution_count": 84,
   "metadata": {
    "collapsed": true
   },
   "outputs": [],
   "source": [
    "from sklearn.ensemble import RandomForestClassifier\n",
    "from sklearn import cross_validation\n",
    "from sklearn import preprocessing\n",
    "from sklearn.cross_validation import KFold\n",
    "from sklearn.metrics import accuracy_score\n",
    "import scipy\n",
    "import matplotlib as mpl\n",
    "from sklearn.linear_model import LogisticRegression\n",
    "from sklearn.grid_search import GridSearchCV"
   ]
  },
  {
   "cell_type": "code",
   "execution_count": 86,
   "metadata": {
    "collapsed": false
   },
   "outputs": [
    {
     "data": {
      "text/plain": [
       "(RandomForestClassifier(bootstrap=True, class_weight=None, criterion='gini',\n",
       "             max_depth=5, max_features='auto', max_leaf_nodes=None,\n",
       "             min_samples_leaf=1, min_samples_split=2,\n",
       "             min_weight_fraction_leaf=0.0, n_estimators=500, n_jobs=1,\n",
       "             oob_score=False, random_state=None, verbose=0,\n",
       "             warm_start=False),\n",
       " {'max_depth': 5, 'n_estimators': 500},\n",
       " 0.82154882154882158,\n",
       " [mean: 0.81818, std: 0.02442, params: {'n_estimators': 400, 'max_depth': 5},\n",
       "  mean: 0.82155, std: 0.02383, params: {'n_estimators': 500, 'max_depth': 5}])"
      ]
     },
     "execution_count": 86,
     "metadata": {},
     "output_type": "execute_result"
    }
   ],
   "source": [
    "clfl2=RandomForestClassifier()\n",
    "parameters = {\"n_estimators\": [400, 500],\n",
    "              \"max_depth\": [5]}\n",
    "fitmodel = GridSearchCV(clfl2, param_grid=parameters, cv=5, scoring=\"accuracy\")\n",
    "fitmodel.fit(train_x, train_y)\n",
    "fitmodel.best_estimator_, fitmodel.best_params_, fitmodel.best_score_, fitmodel.grid_scores_"
   ]
  },
  {
   "cell_type": "code",
   "execution_count": 87,
   "metadata": {
    "collapsed": false
   },
   "outputs": [
    {
     "data": {
      "text/plain": [
       "(GaussianNB(),\n",
       " {},\n",
       " 0.75982042648709314,\n",
       " [mean: 0.75982, std: 0.02948, params: {}])"
      ]
     },
     "execution_count": 87,
     "metadata": {},
     "output_type": "execute_result"
    }
   ],
   "source": [
    "from sklearn.naive_bayes import GaussianNB\n",
    "\n",
    "clfl2=GaussianNB()\n",
    "parameters = {}\n",
    "fitmodel = GridSearchCV(clfl2, param_grid=parameters, cv=5, scoring=\"accuracy\")\n",
    "fitmodel.fit(train_x, train_y)\n",
    "fitmodel.best_estimator_, fitmodel.best_params_, fitmodel.best_score_, fitmodel.grid_scores_"
   ]
  },
  {
   "cell_type": "code",
   "execution_count": 92,
   "metadata": {
    "collapsed": false
   },
   "outputs": [
    {
     "data": {
      "text/plain": [
       "(GradientBoostingClassifier(init=None, learning_rate=0.1, loss='deviance',\n",
       "               max_depth=2, max_features=None, max_leaf_nodes=None,\n",
       "               min_samples_leaf=1, min_samples_split=2,\n",
       "               min_weight_fraction_leaf=0.0, n_estimators=500,\n",
       "               presort='auto', random_state=None, subsample=1.0, verbose=0,\n",
       "               warm_start=False),\n",
       " {'max_depth': 2, 'n_estimators': 500},\n",
       " 0.83052749719416386,\n",
       " [mean: 0.78676, std: 0.01888, params: {'n_estimators': 10, 'max_depth': 1},\n",
       "  mean: 0.78676, std: 0.01888, params: {'n_estimators': 20, 'max_depth': 1},\n",
       "  mean: 0.78676, std: 0.01888, params: {'n_estimators': 30, 'max_depth': 1},\n",
       "  mean: 0.78900, std: 0.01695, params: {'n_estimators': 40, 'max_depth': 1},\n",
       "  mean: 0.81257, std: 0.01391, params: {'n_estimators': 500, 'max_depth': 1},\n",
       "  mean: 0.81369, std: 0.01593, params: {'n_estimators': 1000, 'max_depth': 1},\n",
       "  mean: 0.78676, std: 0.02129, params: {'n_estimators': 10, 'max_depth': 2},\n",
       "  mean: 0.77553, std: 0.02078, params: {'n_estimators': 20, 'max_depth': 2},\n",
       "  mean: 0.79012, std: 0.01986, params: {'n_estimators': 30, 'max_depth': 2},\n",
       "  mean: 0.79237, std: 0.02489, params: {'n_estimators': 40, 'max_depth': 2},\n",
       "  mean: 0.83053, std: 0.02430, params: {'n_estimators': 500, 'max_depth': 2},\n",
       "  mean: 0.82379, std: 0.01991, params: {'n_estimators': 1000, 'max_depth': 2},\n",
       "  mean: 0.80359, std: 0.00875, params: {'n_estimators': 10, 'max_depth': 3},\n",
       "  mean: 0.80471, std: 0.00858, params: {'n_estimators': 20, 'max_depth': 3},\n",
       "  mean: 0.81033, std: 0.00767, params: {'n_estimators': 30, 'max_depth': 3},\n",
       "  mean: 0.81145, std: 0.00980, params: {'n_estimators': 40, 'max_depth': 3},\n",
       "  mean: 0.81930, std: 0.02738, params: {'n_estimators': 500, 'max_depth': 3},\n",
       "  mean: 0.81818, std: 0.01549, params: {'n_estimators': 1000, 'max_depth': 3},\n",
       "  mean: 0.81481, std: 0.01791, params: {'n_estimators': 10, 'max_depth': 4},\n",
       "  mean: 0.82716, std: 0.02987, params: {'n_estimators': 20, 'max_depth': 4},\n",
       "  mean: 0.82155, std: 0.03026, params: {'n_estimators': 30, 'max_depth': 4},\n",
       "  mean: 0.81818, std: 0.03502, params: {'n_estimators': 40, 'max_depth': 4},\n",
       "  mean: 0.81145, std: 0.02487, params: {'n_estimators': 500, 'max_depth': 4},\n",
       "  mean: 0.81706, std: 0.01993, params: {'n_estimators': 1000, 'max_depth': 4},\n",
       "  mean: 0.82716, std: 0.02467, params: {'n_estimators': 10, 'max_depth': 5},\n",
       "  mean: 0.82828, std: 0.03873, params: {'n_estimators': 20, 'max_depth': 5},\n",
       "  mean: 0.82379, std: 0.03289, params: {'n_estimators': 30, 'max_depth': 5},\n",
       "  mean: 0.81594, std: 0.03725, params: {'n_estimators': 40, 'max_depth': 5},\n",
       "  mean: 0.80808, std: 0.01907, params: {'n_estimators': 500, 'max_depth': 5},\n",
       "  mean: 0.81706, std: 0.01959, params: {'n_estimators': 1000, 'max_depth': 5}])"
      ]
     },
     "execution_count": 92,
     "metadata": {},
     "output_type": "execute_result"
    }
   ],
   "source": [
    "from sklearn.ensemble import GradientBoostingClassifier\n",
    "\n",
    "\n",
    "clfl2=GradientBoostingClassifier()\n",
    "parameters = {\"n_estimators\": [10, 20, 30, 40, 500, 1000], \n",
    "              \"max_depth\": [1, 2, 3, 4, 5]}\n",
    "fitmodel = GridSearchCV(clfl2, param_grid=parameters, cv=5, scoring=\"accuracy\")\n",
    "fitmodel.fit(train_x, train_y)\n",
    "fitmodel.best_estimator_, fitmodel.best_params_, fitmodel.best_score_, fitmodel.grid_scores_"
   ]
  },
  {
   "cell_type": "code",
   "execution_count": 27,
   "metadata": {
    "collapsed": false
   },
   "outputs": [
    {
     "data": {
      "text/plain": [
       "(AdaBoostClassifier(algorithm='SAMME.R', base_estimator=None,\n",
       "           learning_rate=1.0, n_estimators=60, random_state=None),\n",
       " {'n_estimators': 60},\n",
       " 0.81705948372615034,\n",
       " [mean: 0.79910, std: 0.02038, params: {'n_estimators': 10},\n",
       "  mean: 0.80584, std: 0.02833, params: {'n_estimators': 20},\n",
       "  mean: 0.81481, std: 0.01716, params: {'n_estimators': 30},\n",
       "  mean: 0.80584, std: 0.02527, params: {'n_estimators': 40},\n",
       "  mean: 0.80584, std: 0.03564, params: {'n_estimators': 50},\n",
       "  mean: 0.81706, std: 0.03162, params: {'n_estimators': 60}])"
      ]
     },
     "execution_count": 27,
     "metadata": {},
     "output_type": "execute_result"
    }
   ],
   "source": [
    "from sklearn.ensemble import AdaBoostClassifier\n",
    "\n",
    "clfl2=AdaBoostClassifier()\n",
    "parameters = {\"n_estimators\": [10, 20, 30, 40, 50, 60]}\n",
    "fitmodel = GridSearchCV(clfl2, param_grid=parameters, cv=5, scoring=\"accuracy\")\n",
    "fitmodel.fit(train_x, train_y)\n",
    "fitmodel.best_estimator_, fitmodel.best_params_, fitmodel.best_score_, fitmodel.grid_scores_"
   ]
  },
  {
   "cell_type": "code",
   "execution_count": 102,
   "metadata": {
    "collapsed": false
   },
   "outputs": [
    {
     "name": "stdout",
     "output_type": "stream",
     "text": [
      "\n"
     ]
    }
   ],
   "source": [
    "test = pd.read_csv('test.csv', header = 0)"
   ]
  },
  {
   "cell_type": "code",
   "execution_count": 103,
   "metadata": {
    "collapsed": true
   },
   "outputs": [],
   "source": [
    "test['Title'] = test['Name'].str.extract(r'([^\\W]+\\.)')"
   ]
  },
  {
   "cell_type": "code",
   "execution_count": 104,
   "metadata": {
    "collapsed": false
   },
   "outputs": [],
   "source": [
    "test.Title.unique()\n",
    "test.Title = np.where(test.Title == 'Dona.', 'Ms', test.Title)"
   ]
  },
  {
   "cell_type": "code",
   "execution_count": 105,
   "metadata": {
    "collapsed": false
   },
   "outputs": [
    {
     "data": {
      "text/html": [
       "<div>\n",
       "<table border=\"1\" class=\"dataframe\">\n",
       "  <thead>\n",
       "    <tr style=\"text-align: right;\">\n",
       "      <th></th>\n",
       "      <th>Pclass</th>\n",
       "      <th>Sex</th>\n",
       "      <th>Fare</th>\n",
       "      <th>Title</th>\n",
       "      <th>Child</th>\n",
       "    </tr>\n",
       "  </thead>\n",
       "  <tbody>\n",
       "    <tr>\n",
       "      <th>0</th>\n",
       "      <td>3</td>\n",
       "      <td>1</td>\n",
       "      <td>7.8292</td>\n",
       "      <td>4</td>\n",
       "      <td>0</td>\n",
       "    </tr>\n",
       "    <tr>\n",
       "      <th>1</th>\n",
       "      <td>3</td>\n",
       "      <td>0</td>\n",
       "      <td>7.0000</td>\n",
       "      <td>5</td>\n",
       "      <td>0</td>\n",
       "    </tr>\n",
       "    <tr>\n",
       "      <th>2</th>\n",
       "      <td>2</td>\n",
       "      <td>1</td>\n",
       "      <td>9.6875</td>\n",
       "      <td>4</td>\n",
       "      <td>0</td>\n",
       "    </tr>\n",
       "    <tr>\n",
       "      <th>3</th>\n",
       "      <td>3</td>\n",
       "      <td>1</td>\n",
       "      <td>8.6625</td>\n",
       "      <td>4</td>\n",
       "      <td>0</td>\n",
       "    </tr>\n",
       "    <tr>\n",
       "      <th>4</th>\n",
       "      <td>3</td>\n",
       "      <td>0</td>\n",
       "      <td>12.2875</td>\n",
       "      <td>5</td>\n",
       "      <td>0</td>\n",
       "    </tr>\n",
       "  </tbody>\n",
       "</table>\n",
       "</div>"
      ],
      "text/plain": [
       "   Pclass  Sex     Fare  Title  Child\n",
       "0       3    1   7.8292      4      0\n",
       "1       3    0   7.0000      5      0\n",
       "2       2    1   9.6875      4      0\n",
       "3       3    1   8.6625      4      0\n",
       "4       3    0  12.2875      5      0"
      ]
     },
     "execution_count": 105,
     "metadata": {},
     "output_type": "execute_result"
    }
   ],
   "source": [
    "test['Child'] = np.where(test['Age'] > 18, 0, 1)\n",
    "test['ExpensiveTicket'] = np.where(test['Fare'] > test['Fare'].mean(), 1, 0)\n",
    "test['Age'] = test['Age'].fillna(value = test['Age'].mode()[0])\n",
    "#test['Age'] = normalize(test['Age'].values)[0]\n",
    "test['FamSize'] = test['SibSp'] + test['Parch']\n",
    "#test['FamSize'] = normalize(test['FamSize'].values)[0]\n",
    "#test['Pclass'] = normalize(test['Pclass'].values)[0]\n",
    "test['CabinCategory'] = pd.Series(test['Cabin']).str[0]\n",
    "test['CabinNumber'] = pd.Series(test['Cabin'].dropna().str.extract(r'(\\d+)'))\n",
    "test['CabinNumber'] = test['CabinNumber'].fillna(value = test['CabinNumber'].mode()[0])\n",
    "test['Sex'] = np.where(test['Sex'] == 'male', 1, 0)\n",
    "test['CabinCategory'] = test['CabinCategory'].fillna(value = test['CabinCategory'].mode()[0])\n",
    "test['Embarked'] = test['Embarked'].fillna(value = test['Embarked'].mode()[0])\n",
    "le = LabelEncoder()\n",
    "le.fit(test['Title'])\n",
    "test['Title'] = le.transform(test['Title'])\n",
    "#test['Title'] = normalize(test['Title'].values)[0]\n",
    "le.fit(test['Embarked'])\n",
    "test['Embarked'] = le.transform(test['Embarked'])\n",
    "#test['Embarked'] = normalize(test['Embarked'].values)[0]\n",
    "le.fit(test['CabinCategory'])\n",
    "test['CabinCategory'] = le.transform(test['CabinCategory'])\n",
    "#test['CabinCategory'] = normalize(test['CabinCategory'].values)[0]\n",
    "#test['CabinNumber'] = normalize(test['CabinNumber'].values)[0]\n",
    "test_x = test.drop(['PassengerId', 'Name', 'Ticket', \n",
    "                      'Cabin', 'SibSp', 'Parch', 'CabinNumber', \n",
    "                      'ExpensiveTicket', 'FamSize', 'CabinCategory',\n",
    "                      'Age', 'Embarked'], axis = 1)\n",
    "test_x.head()"
   ]
  },
  {
   "cell_type": "code",
   "execution_count": 106,
   "metadata": {
    "collapsed": false
   },
   "outputs": [
    {
     "name": "stdout",
     "output_type": "stream",
     "text": [
      "Pclass [3 2 1]\n",
      "Sex [1 0]\n",
      "Fare [   7.8292    7.        9.6875    8.6625   12.2875    9.225     7.6292\n",
      "   29.        7.2292   24.15      7.8958   26.       82.2667   61.175\n",
      "   27.7208   12.35      7.225     7.925    59.4       3.1708   31.6833\n",
      "   61.3792  262.375    14.5      61.9792   30.5      21.6792   31.5\n",
      "   20.575    23.45     57.75      8.05      9.5      56.4958   13.4167\n",
      "   26.55      7.85     13.       52.5542   29.7       7.75     76.2917\n",
      "   15.9      60.       15.0333   23.      263.       15.5792   29.125\n",
      "    7.65     16.1      13.5       7.725    21.        7.8792   42.4\n",
      "   28.5375  211.5      25.7      15.2458  221.7792   10.7083   14.4542\n",
      "   13.9       7.775    52.        7.7958   78.85      7.8542   55.4417\n",
      "    8.5167   22.525     7.8208    8.7125   15.0458    7.7792   31.6792\n",
      "    7.2833    6.4375   16.7      75.2417   15.75      7.25     23.25     28.5\n",
      "   25.4667   46.9     151.55     18.       51.8625   83.1583       nan\n",
      "   12.1833   31.3875    7.55     13.775     7.7333   22.025    50.4958\n",
      "   34.375     8.9625   39.       36.75     53.1     247.5208   16.       69.55\n",
      "   32.5     134.5      10.5       8.1125   15.5      14.4     227.525\n",
      "   25.7417    7.05     73.5      42.5     164.8667   13.8583   27.4458\n",
      "   15.1      65.        6.4958   71.2833   75.25    106.425    30.\n",
      "    7.8875   27.75    136.7792    9.325    17.4      12.7375    0.\n",
      "   20.2125   39.6       6.95     81.8583   41.5792   45.5       9.35     93.5\n",
      "   14.1083    7.575   135.6333  146.5208  211.3375   79.2      15.7417\n",
      "    7.5792  512.3292   63.3583   51.4792   15.55     37.0042   14.4583\n",
      "   39.6875   11.5      50.       12.875    21.075    39.4      20.25     47.1\n",
      "   13.8625    7.7208   90.      108.9      22.3583]\n",
      "Title [4 5 3 2 7 0 8 1 6]\n",
      "Child [0 1]\n"
     ]
    }
   ],
   "source": [
    "for column in test_x.columns:\n",
    "    print column, test_x[column].unique()"
   ]
  },
  {
   "cell_type": "code",
   "execution_count": 108,
   "metadata": {
    "collapsed": false
   },
   "outputs": [],
   "source": [
    "test_x.Fare = test_x.Fare.fillna(13)"
   ]
  },
  {
   "cell_type": "code",
   "execution_count": 109,
   "metadata": {
    "collapsed": false
   },
   "outputs": [
    {
     "data": {
      "text/plain": [
       "GradientBoostingClassifier(init=None, learning_rate=0.1, loss='deviance',\n",
       "              max_depth=2, max_features=None, max_leaf_nodes=None,\n",
       "              min_samples_leaf=1, min_samples_split=2,\n",
       "              min_weight_fraction_leaf=0.0, n_estimators=500,\n",
       "              presort='auto', random_state=None, subsample=1.0, verbose=0,\n",
       "              warm_start=False)"
      ]
     },
     "execution_count": 109,
     "metadata": {},
     "output_type": "execute_result"
    }
   ],
   "source": [
    "fitmodel.best_estimator_"
   ]
  },
  {
   "cell_type": "code",
   "execution_count": 110,
   "metadata": {
    "collapsed": false
   },
   "outputs": [],
   "source": [
    "output = fitmodel.predict(test_x).astype(int)"
   ]
  },
  {
   "cell_type": "code",
   "execution_count": 111,
   "metadata": {
    "collapsed": false
   },
   "outputs": [
    {
     "data": {
      "text/plain": [
       "418"
      ]
     },
     "execution_count": 111,
     "metadata": {},
     "output_type": "execute_result"
    }
   ],
   "source": [
    "len(test)"
   ]
  },
  {
   "cell_type": "code",
   "execution_count": 112,
   "metadata": {
    "collapsed": false
   },
   "outputs": [
    {
     "data": {
      "text/plain": [
       "418"
      ]
     },
     "execution_count": 112,
     "metadata": {},
     "output_type": "execute_result"
    }
   ],
   "source": [
    "len(output)"
   ]
  },
  {
   "cell_type": "code",
   "execution_count": 113,
   "metadata": {
    "collapsed": false
   },
   "outputs": [],
   "source": [
    "import csv\n",
    "predictions_file = open(\"myfirstforest.csv\", \"wb\")\n",
    "open_file_object = csv.writer(predictions_file)\n",
    "open_file_object.writerow([\"PassengerId\",\"Survived\"])\n",
    "open_file_object.writerows(zip(test.PassengerId, output))\n",
    "predictions_file.close()"
   ]
  },
  {
   "cell_type": "code",
   "execution_count": null,
   "metadata": {
    "collapsed": true
   },
   "outputs": [],
   "source": []
  }
 ],
 "metadata": {
  "kernelspec": {
   "display_name": "Python 2",
   "language": "python",
   "name": "python2"
  },
  "language_info": {
   "codemirror_mode": {
    "name": "ipython",
    "version": 2
   },
   "file_extension": ".py",
   "mimetype": "text/x-python",
   "name": "python",
   "nbconvert_exporter": "python",
   "pygments_lexer": "ipython2",
   "version": "2.7.11"
  }
 },
 "nbformat": 4,
 "nbformat_minor": 0
}
