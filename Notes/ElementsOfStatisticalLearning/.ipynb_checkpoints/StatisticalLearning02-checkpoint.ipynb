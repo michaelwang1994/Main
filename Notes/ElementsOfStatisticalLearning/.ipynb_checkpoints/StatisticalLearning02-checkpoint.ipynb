{
 "cells": [
  {
   "cell_type": "markdown",
   "metadata": {},
   "source": [
    "# Statistical Learning 02 - Supervised Learning Problem\n",
    "## Objectives"
   ]
  },
  {
   "cell_type": "markdown",
   "metadata": {},
   "source": [
    "On the basis of the training data we would like to:\n",
    "* Accurately predict unseen test cases\n",
    "* Understand which inputs affect the outcome, and how\n",
    "* Assess the quality of our predictions and inferences\n",
    "\n",
    "**Supervised learning** refers to telling the machine that this is a house, car, piano, and then classifying based on previous information\n",
    "\n",
    "**Unsupervised learning** refers to not telling the machine anything and seeing if the machine will figure it out by clustering etc.\n",
    "* This is often cheaper and easier as labeled data is expensive and laborious\n",
    "\n",
    "**The Netflix Price**\n",
    "* Training data is ratings for 18,000 movies by 400,000 Netflix customers, each rating between 1 and 5.\n",
    "* Traning data was sparse, around 98% missing\n",
    "* Predict the ration for a set of 1 million customer-movie pairs that are missing\n",
    "* It took people 3 years improve Netflix's original predict 10%, and win\n",
    "    * Lots of techniques including PCA were invented during this period."
   ]
  }
 ],
 "metadata": {
  "kernelspec": {
   "display_name": "Python 2",
   "language": "python",
   "name": "python2"
  },
  "language_info": {
   "codemirror_mode": {
    "name": "ipython",
    "version": 2
   },
   "file_extension": ".py",
   "mimetype": "text/x-python",
   "name": "python",
   "nbconvert_exporter": "python",
   "pygments_lexer": "ipython2",
   "version": "2.7.11"
  }
 },
 "nbformat": 4,
 "nbformat_minor": 0
}
