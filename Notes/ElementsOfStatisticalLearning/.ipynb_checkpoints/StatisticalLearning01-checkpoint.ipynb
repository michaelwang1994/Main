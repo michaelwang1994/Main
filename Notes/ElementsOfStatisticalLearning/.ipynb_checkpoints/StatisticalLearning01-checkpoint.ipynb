{
 "cells": [
  {
   "cell_type": "markdown",
   "metadata": {},
   "source": [
    "# Statistical Learning 01 - Intro"
   ]
  },
  {
   "cell_type": "markdown",
   "metadata": {},
   "source": [
    "https://lagunita.stanford.edu/c4x/HumanitiesScience/StatLearning/asset/introduction.pdf\n",
    "\n",
    "Examples of statistical learning:\n",
    "* IBM built Watson, a Jeapordy playing machine that beat real players\n",
    "* Google predicts statisticians as the sexiest jobs\n",
    "* Nate Silver predicted the outcome of the 2012 Presidental and Senate Elections\n",
    "* Prostate Cancer...\n",
    "    * Make sure you make lots of graphs before doing anything with the data\n",
    "* Reading handwritten zip codes\n",
    "* Classifying spam email\n",
    "* Classifying women in gene expression heatmaps\n",
    "* Establish the correlation between age and income\n",
    "    * Use linear scatterplots, box plots, etc.\n",
    "* Establish soil type based on k-means clustering"
   ]
  }
 ],
 "metadata": {
  "kernelspec": {
   "display_name": "Python 2",
   "language": "python",
   "name": "python2"
  },
  "language_info": {
   "codemirror_mode": {
    "name": "ipython",
    "version": 2
   },
   "file_extension": ".py",
   "mimetype": "text/x-python",
   "name": "python",
   "nbconvert_exporter": "python",
   "pygments_lexer": "ipython2",
   "version": "2.7.11"
  }
 },
 "nbformat": 4,
 "nbformat_minor": 0
}
