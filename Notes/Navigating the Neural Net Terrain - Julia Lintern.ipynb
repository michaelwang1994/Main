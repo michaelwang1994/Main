{
 "cells": [
  {
   "cell_type": "markdown",
   "metadata": {},
   "source": [
    "# Functions"
   ]
  },
  {
   "cell_type": "markdown",
   "metadata": {},
   "source": [
    "Usually the Sigmoid function is used as the score function with $ s = f(w, x) $\n",
    "* score = function of weights you can change and x data\n",
    "\n",
    "$ \\text{Sigmoid function: } \\theta = \\dfrac{1}{1 + e^{-a}} $\n",
    "\n",
    "$ L = \\frac{1}{2} |s - d|^2 $\n",
    "* least squares scorer\n",
    "\n",
    "However sometimes sigmoid doesn't word because it's a \"saturated function\" which flattens at the tails. Therefore people want to use the RELU (linear) model. Converges faster.\n",
    "\n",
    "* There's also hinge loss (SVM)\n",
    "* And also the softmas (cross - entropy) loss $L_i = -log \\big(\\dfrac{e^f_{x_{i}}}{\\sum} \\big) $\n",
    "\n",
    "$ \\text{Back Propagation: } f(x, y, z) = (x + y)z $\n",
    "* back prop is the process that adjusts the weights.\n",
    "$ q = (x + y) $\n",
    "\n",
    "$ f(x, y, z) = qz $\n",
    "\n",
    "$ \\dfrac{df}{dq} = z $\n",
    "\n",
    "$ \\dfrac{dq}{dx} = 1 $\n",
    "\n",
    "$ \\dfrac{df}{dx} = \\dfrac{df}{dq}\\dfrac{dq}{dx} = z(1) $"
   ]
  },
  {
   "cell_type": "markdown",
   "metadata": {},
   "source": [
    "# Convolutional Neural Nets\n",
    "\n",
    "CNN makes the explicit differenciation that the input is an image, while a neural net doesn't\n",
    "* They find the structure of the image first (the shape of the head, etc.) and then hits the details\n",
    "\n",
    "## Big CNN models\n",
    "\n",
    "* AlexNet (2012, Krizhevsky): Popularized CNNs - 1st to incorporate consecutive convolutional layers\n",
    "* GoogleNet / Inception: reduced the # of params to 4 mil\n",
    "* ResNet: Residual Networds (batch normalization)\n",
    "\n",
    "## Architecture\n",
    "\n",
    "1. Input Layer: raw pixel image (including RBG!)\n",
    "2. Conv Layer (dot product between weights and the small region of input volume)\n",
    "    * A convolution is $f * g = \\int f(t - \\tau) g(\\tau) d\\tau $\n",
    "    * Sombrero convolution\n",
    "        * used to **find edges**\n",
    "        * using this we'll have \"filters\" to train our NNs on.\n",
    "3. Pooling Layer\n",
    "    * performs downsampling operation\n",
    "    * gets rid of 75% of the parameters if you use a 2x2 pool\n",
    "4. ReLU Layer\n",
    "    * deciding what the threshold is.\n",
    "5. FC (Fully connected Layer)\n",
    "    * where backprop is performed"
   ]
  },
  {
   "cell_type": "markdown",
   "metadata": {},
   "source": [
    "# Behold.ai\n",
    "\n",
    "How long does it take to train AlexNet to achieve 50% accuracy? \n",
    "* First, via Torch\n",
    "    * around 30 epochs (66 hours)\n",
    "* Then, Inception-V3 via **TensorFlow**\n",
    "    * around 2 weeks\n",
    "    \n",
    "## Tensorflow vs. Torch\n",
    "\n",
    "* Torch: your in the middle of nowhere driving crazy fast w/ no support\n",
    "* Tensorflow: written in python and numpy and slower and visualization via Tensorboard\n",
    "    * AWS is used to configure GPU"
   ]
  },
  {
   "cell_type": "code",
   "execution_count": null,
   "metadata": {
    "collapsed": true
   },
   "outputs": [],
   "source": []
  }
 ],
 "metadata": {
  "kernelspec": {
   "display_name": "Python 2",
   "language": "python",
   "name": "python2"
  },
  "language_info": {
   "codemirror_mode": {
    "name": "ipython",
    "version": 2
   },
   "file_extension": ".py",
   "mimetype": "text/x-python",
   "name": "python",
   "nbconvert_exporter": "python",
   "pygments_lexer": "ipython2",
   "version": "2.7.11"
  }
 },
 "nbformat": 4,
 "nbformat_minor": 0
}
