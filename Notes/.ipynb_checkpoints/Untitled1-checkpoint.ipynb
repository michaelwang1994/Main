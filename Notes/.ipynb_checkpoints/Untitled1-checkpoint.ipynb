{
 "cells": [
  {
   "cell_type": "code",
   "execution_count": 56,
   "metadata": {
    "collapsed": false
   },
   "outputs": [
    {
     "name": "stdout",
     "output_type": "stream",
     "text": [
      "hello world! \n",
      "         A couple notes about programming, '\\n' means 'new line.' \n",
      "         a 'class' is a type of object, \n",
      "         and 'def' means to have the object do something, \n",
      "         now that you're a master programmer, let's run 'thanksgiving'!\n",
      "I've been very thankful these past few weeks with: \n",
      "         how you've been partnering with me for God's glory, \n",
      "         in constantly praying for and showing concern for me, \n",
      "         in intentionally asking the McIntires questions how to grow, \n",
      "         in growing in communication and voicing your concerns \n",
      "         with the heart of glorifying God.\n",
      "But before we exalt ourselves: \n",
      "         God is the one who deserves all praise and honor \n",
      "         for He is the One who was in control of our relationship \n",
      "         through the easy times and the hard. \n",
      "         Indeed He has been and will always be true to His promise \n",
      "         that He leads us in paths of righteousness for His name's sake!\n",
      "And He gives us brothers and sisters who upgrade or Spiritual rams! \n",
      "         Since we are surrounded by so great an iCloud of witnesses \n",
      "         let us clean and debug our code very carefully \n",
      "         and let us run our code with endurance \n",
      "         looking to Jesus, the founder and perfecter of our faith, \n",
      "         who for the joy that was set before him endured the corss, \n",
      "         despising the shame, and is seated at the right hand \n",
      "         of the throne of God.\n"
     ]
    }
   ],
   "source": [
    "#import essay\n",
    "\n",
    "class Letter():\n",
    "    def __init__(self):\n",
    "        pass\n",
    "    def intro(self, cheese = 100):\n",
    "        return \"hello world! \\n \\\n",
    "        A couple notes about programming, '\\\\n' means 'new line.' \\n \\\n",
    "        a 'class' is a type of object, \\n \\\n",
    "        and 'def' means to have the object do something, \\n \\\n",
    "        now that you\\'re a master programmer, let\\'s run 'thanksgiving'!\"\n",
    "    def thanksgiving(self, feels = 999): \n",
    "        return \"I\\'ve been very thankful these past few weeks with: \\n \\\n",
    "        how you've been partnering with me for God\\'s glory, \\n \\\n",
    "        in constantly praying for and showing concern for me, \\n \\\n",
    "        in intentionally asking the McIntires questions how to grow, \\n \\\n",
    "        in growing in communication and voicing your concerns \\n \\\n",
    "        with the heart of glorifying God.\"\n",
    "    def praise(self, holyspirit = 1000000000):\n",
    "        return \"But before we exalt ourselves: \\n \\\n",
    "        God is the one who deserves all praise and honor \\n \\\n",
    "        for He is the One who was in control of our relationship \\n \\\n",
    "        through the easy times and the hard. \\n \\\n",
    "        Indeed He has been and will always be true to His promise \\n \\\n",
    "        that He leads us in paths of righteousness for His name's sake!\"\n",
    "    def closing(self, grace = 1000000000):\n",
    "        return \"And He gives us brothers and sisters who upgrade or Spiritual rams! \\n \\\n",
    "        Since we are surrounded by so great an iCloud of witnesses \\n \\\n",
    "        let us clean and debug our code very carefully \\n \\\n",
    "        and let us run our code with endurance \\n \\\n",
    "        looking to Jesus, the founder and perfecter of our faith, \\n \\\n",
    "        who for the joy that was set before him endured the corss, \\n \\\n",
    "        despising the shame, and is seated at the right hand \\n \\\n",
    "        of the throne of God.\"\n",
    "newLetter = Letter()\n",
    "print newLetter.intro()\n",
    "print newLetter.thanksgiving()\n",
    "print newLetter.praise()\n",
    "print newLetter.closing()"
   ]
  },
  {
   "cell_type": "code",
   "execution_count": null,
   "metadata": {
    "collapsed": true
   },
   "outputs": [],
   "source": []
  }
 ],
 "metadata": {
  "kernelspec": {
   "display_name": "Python 2",
   "language": "python",
   "name": "python2"
  },
  "language_info": {
   "codemirror_mode": {
    "name": "ipython",
    "version": 2
   },
   "file_extension": ".py",
   "mimetype": "text/x-python",
   "name": "python",
   "nbconvert_exporter": "python",
   "pygments_lexer": "ipython2",
   "version": "2.7.11"
  }
 },
 "nbformat": 4,
 "nbformat_minor": 0
}
